{
 "cells": [
  {
   "cell_type": "markdown",
   "metadata": {
    "application/vnd.databricks.v1+cell": {
     "cellMetadata": {},
     "inputWidgets": {},
     "nuid": "e21430d9-0100-49c3-9e50-b5db7a84e3df",
     "showTitle": false,
     "title": ""
    }
   },
   "source": [
    "# Latent Semantic Analysis\n",
    "\n",
    "Before we begin, let's define some basic vocabulary. \n",
    "\n",
    "**Natural language processing** refers to a family of techniques used to derive meaning from text data.\n",
    "\n",
    "A **document** refers to some collection of words and represents the instances or \"rows\" of our dataset. \n",
    "\n",
    "A **body** is a collection of documents and is our entire data set.\n",
    "\n",
    "A **dictionary** is the set of all words that appear in at least one document in our body.\n",
    "\n",
    "A **topic** is a collection of words that co-occur.\n",
    "\n",
    "The word **latent** means hidden. In this context, we are referring to features that are \"hidden\" in the data. That they are hidden referes to the fact that they can not be directly measured. These latent features are essential to the data, but are not the orginal features of the data set."
   ]
  },
  {
   "cell_type": "markdown",
   "metadata": {
    "application/vnd.databricks.v1+cell": {
     "cellMetadata": {},
     "inputWidgets": {},
     "nuid": "4045ff8d-a9f8-419e-8c9a-147fd556755c",
     "showTitle": false,
     "title": ""
    }
   },
   "source": [
    "**Latent Semantic Analysis (LSA)** is:\n",
    "\n",
    "- a natural language processing technique\n",
    "- an unsupervised learning technique\n",
    "- aims to create representations of the documents in a body based on the topics inherent to that body\n",
    "- reducing the dimensionality of a text-based dataset\n",
    "- consists of two steps:\n",
    "   - creating a document-term matrix\n",
    "   - dimensionality reduction via a singular value decomposition"
   ]
  },
  {
   "cell_type": "markdown",
   "metadata": {
    "application/vnd.databricks.v1+cell": {
     "cellMetadata": {},
     "inputWidgets": {},
     "nuid": "b79885ba-4be1-49b9-b2d5-0e478af8c7be",
     "showTitle": false,
     "title": ""
    }
   },
   "source": [
    "## Document-Term Matrix\n",
    "\n",
    "A basic idea of a Document-Term Matrix is that documents can be represented as points in Euclidean space aka **vectors**.\n",
    "\n",
    "Here is an example of a document-term matrix.\n",
    "\n",
    "![](https://www.evernote.com/l/AAE9rZErr9BCcLX-wE6dpPbqNTsxKNmxH3UB/image.png)\n",
    "\n",
    "Here, each document is a simple statement describing the nature of a canine and defines the rows of our matrix. The dictionary defines the columns of our matrix."
   ]
  },
  {
   "cell_type": "markdown",
   "metadata": {
    "application/vnd.databricks.v1+cell": {
     "cellMetadata": {},
     "inputWidgets": {},
     "nuid": "d7bd7eb5-7a9f-4901-9d7e-f97edc80aef1",
     "showTitle": false,
     "title": ""
    }
   },
   "source": [
    "#### Documents as Vectors\n",
    "\n",
    "According to this Document-Term matrix,\n",
    "\n",
    "$$\\text{\"the quick brown fox\"} = (1,0,1,0,1,0,0,1,0)$$\n",
    "$$\\text{\"the slow brown dog\"}  = (1,1,0,0,0,0,1,1,0)$$\n",
    "$$\\text{\"the quick red dog\"}   = (0,1,0,0,1,1,0,1,0)$$\n",
    "$$\\text{\"the lazy yellow fox\"} = (0,0,1,1,0,0,0,1,1)$$"
   ]
  },
  {
   "cell_type": "markdown",
   "metadata": {
    "application/vnd.databricks.v1+cell": {
     "cellMetadata": {},
     "inputWidgets": {},
     "nuid": "5513f9df-ce77-4523-a5a4-8a2f695de76f",
     "showTitle": false,
     "title": ""
    }
   },
   "source": [
    "## Singular Value Decomposition\n",
    "\n",
    "The Singular Value Decomposition (SVD) \n",
    "\n",
    "- is similar to a Principal Component Analysis\n",
    "- reduces the dimension of the original data\n",
    "- transforms the data to be encoded using latent, or hidden, variables\n",
    "- for LSA, these latent variables represent topics"
   ]
  },
  {
   "cell_type": "markdown",
   "metadata": {
    "application/vnd.databricks.v1+cell": {
     "cellMetadata": {},
     "inputWidgets": {},
     "nuid": "e294a601-e696-4e53-bbf5-a669fa051c6a",
     "showTitle": false,
     "title": ""
    }
   },
   "source": [
    "## Implementation in Scikit-Learn\n",
    "\n",
    "We will first demonstrate a trivial implementation using the Python library, [Scikit-Learn](https://scikit-learn.org/stable/).\n",
    "\n",
    "![](https://www.evernote.com/l/AAGiYGcKcIxIaJ7sCg97K9JDtUO2dY9mywoB/image.png)"
   ]
  },
  {
   "cell_type": "markdown",
   "metadata": {
    "application/vnd.databricks.v1+cell": {
     "cellMetadata": {},
     "inputWidgets": {},
     "nuid": "a1c18cda-73f9-42d1-b7a3-48c235ea13e5",
     "showTitle": false,
     "title": ""
    }
   },
   "source": [
    "### Raw Text Data\n",
    "\n",
    "<img src=\"https://www.evernote.com/l/AAFfAyDQQ1xGPLTIxT2hcUSLrHuQDbYzsuYB/image.png\" width=600px>\n",
    "\n",
    "Here each line of text is a **document** and the collection of all lines of text is the **body**."
   ]
  },
  {
   "cell_type": "markdown",
   "metadata": {
    "application/vnd.databricks.v1+cell": {
     "cellMetadata": {},
     "inputWidgets": {},
     "nuid": "e495b051-4426-412e-a5bd-e93d7f66b744",
     "showTitle": false,
     "title": ""
    }
   },
   "source": [
    "One advantage of working in databricks is that the Databricks Runtime for ML contains many popular machine learning libraries, including Scikit-Learn, TensorFlow, and XGBoost. We will the Databricks Runtime for ML to implement our Latent Semantic Analysis in Scikit-Learn."
   ]
  },
  {
   "cell_type": "code",
   "execution_count": 1,
   "metadata": {
    "application/vnd.databricks.v1+cell": {
     "cellMetadata": {},
     "inputWidgets": {},
     "nuid": "78c49e91-0e66-4e30-ba23-4a743fa91b46",
     "showTitle": false,
     "title": ""
    },
    "execution": {
     "iopub.execute_input": "2023-06-13T02:53:22.307452Z",
     "iopub.status.busy": "2023-06-13T02:53:22.306452Z",
     "iopub.status.idle": "2023-06-13T02:53:22.322966Z",
     "shell.execute_reply": "2023-06-13T02:53:22.321963Z",
     "shell.execute_reply.started": "2023-06-13T02:53:22.307452Z"
    }
   },
   "outputs": [],
   "source": [
    "body = [\n",
    "    \"the quick brown fox\",\n",
    "    \"the slow brown dog\",\n",
    "    \"the quick red dog\",\n",
    "    \"the lazy yellow fox\"\n",
    "]"
   ]
  },
  {
   "cell_type": "markdown",
   "metadata": {
    "application/vnd.databricks.v1+cell": {
     "cellMetadata": {},
     "inputWidgets": {},
     "nuid": "91c08023-0d80-4cf1-b7c1-b5135fdd2196",
     "showTitle": false,
     "title": ""
    }
   },
   "source": [
    "### Document-Term Matrix\n",
    "\n",
    "<img src=\"https://www.evernote.com/l/AAFtjaKOjT5CYr5N_NPHKU6vpBWNnBgbWLIB/image.png\" width=600px>\n",
    "\n",
    "The Document-Term Matrix can be created using the `CountVectorizer` model [[doc]](https://scikit-learn.org/stable/modules/generated/sklearn.feature_extraction.text.CountVectorizer.html) in Scikit-Learn."
   ]
  },
  {
   "cell_type": "code",
   "execution_count": 2,
   "metadata": {
    "application/vnd.databricks.v1+cell": {
     "cellMetadata": {},
     "inputWidgets": {},
     "nuid": "cda8791a-1ede-467f-9a58-01f566f2c479",
     "showTitle": false,
     "title": ""
    },
    "execution": {
     "iopub.execute_input": "2023-06-13T02:53:23.493917Z",
     "iopub.status.busy": "2023-06-13T02:53:23.493917Z",
     "iopub.status.idle": "2023-06-13T02:53:24.645514Z",
     "shell.execute_reply": "2023-06-13T02:53:24.645514Z",
     "shell.execute_reply.started": "2023-06-13T02:53:23.493917Z"
    }
   },
   "outputs": [],
   "source": [
    "from sklearn.feature_extraction.text import CountVectorizer\n",
    "\n",
    "vectorizer = CountVectorizer()\n",
    "bag_of_words = vectorizer.fit_transform(body)"
   ]
  },
  {
   "cell_type": "markdown",
   "metadata": {
    "application/vnd.databricks.v1+cell": {
     "cellMetadata": {},
     "inputWidgets": {},
     "nuid": "a810de98-3075-47cd-bd3e-b7b70e9f8df9",
     "showTitle": false,
     "title": ""
    }
   },
   "source": [
    "This process has converted each **document** into a vector. The matrix consists of a vector for each \"document\" in the **body**.\n",
    "\n",
    "$$\\text{\"the quick brown fox\"} = (1,0,1,0,1,0,0,1,0)$$\n",
    "$$\\text{\"the slow brown dog\"}  = (1,1,0,0,0,0,1,1,0)$$\n",
    "$$\\text{\"the quick red dog\"}   = (0,1,0,0,1,1,0,1,0)$$\n",
    "$$\\text{\"the lazy yellow fox\"} = (0,0,1,1,0,0,0,1,1)$$"
   ]
  },
  {
   "cell_type": "code",
   "execution_count": 3,
   "metadata": {
    "application/vnd.databricks.v1+cell": {
     "cellMetadata": {},
     "inputWidgets": {},
     "nuid": "7ab8df44-84b7-4467-9cd9-867180304588",
     "showTitle": false,
     "title": ""
    },
    "execution": {
     "iopub.execute_input": "2023-06-13T02:53:24.647512Z",
     "iopub.status.busy": "2023-06-13T02:53:24.647512Z",
     "iopub.status.idle": "2023-06-13T02:53:24.708733Z",
     "shell.execute_reply": "2023-06-13T02:53:24.708733Z",
     "shell.execute_reply.started": "2023-06-13T02:53:24.647512Z"
    }
   },
   "outputs": [
    {
     "data": {
      "text/plain": [
       "matrix([[1, 0, 1, 0, 1, 0, 0, 1, 0],\n",
       "        [1, 1, 0, 0, 0, 0, 1, 1, 0],\n",
       "        [0, 1, 0, 0, 1, 1, 0, 1, 0],\n",
       "        [0, 0, 1, 1, 0, 0, 0, 1, 1]], dtype=int64)"
      ]
     },
     "execution_count": 3,
     "metadata": {},
     "output_type": "execute_result"
    }
   ],
   "source": [
    "bag_of_words.todense()"
   ]
  },
  {
   "cell_type": "markdown",
   "metadata": {
    "application/vnd.databricks.v1+cell": {
     "cellMetadata": {},
     "inputWidgets": {},
     "nuid": "f493318f-d6c7-4699-8da8-3aa1ab15c70b",
     "showTitle": false,
     "title": ""
    }
   },
   "source": [
    "### Singular Value Decomposition\n",
    "\n",
    "<img src=\"https://www.evernote.com/l/AAEhTiOBufhPwKBx-Hgufx4XZ5XyfsCp8cMB/image.png\" width=600px>\n",
    "\n",
    "This can be achieved using the `TruncatedSVD` model. \n",
    "\n",
    "The function is named \"truncated\" SVD because it is capable of returning a dataset with fewer features than it is passed without significant loss of information, that is, it is great for reducing the dimension of data."
   ]
  },
  {
   "cell_type": "code",
   "execution_count": 4,
   "metadata": {
    "application/vnd.databricks.v1+cell": {
     "cellMetadata": {},
     "inputWidgets": {},
     "nuid": "8e409ad1-e39c-4886-94d8-7160c1098fa0",
     "showTitle": false,
     "title": ""
    },
    "execution": {
     "iopub.execute_input": "2023-06-13T02:53:25.468798Z",
     "iopub.status.busy": "2023-06-13T02:53:25.468798Z",
     "iopub.status.idle": "2023-06-13T02:53:25.724189Z",
     "shell.execute_reply": "2023-06-13T02:53:25.723188Z",
     "shell.execute_reply.started": "2023-06-13T02:53:25.468798Z"
    }
   },
   "outputs": [],
   "source": [
    "from sklearn.decomposition import TruncatedSVD\n",
    "\n",
    "svd = TruncatedSVD(n_components=2)\n",
    "lsa = svd.fit_transform(bag_of_words)"
   ]
  },
  {
   "cell_type": "markdown",
   "metadata": {
    "application/vnd.databricks.v1+cell": {
     "cellMetadata": {},
     "inputWidgets": {},
     "nuid": "27d2bd7b-0611-4753-9f2d-478c221046ee",
     "showTitle": false,
     "title": ""
    }
   },
   "source": [
    "### Topic Encoded Data\n",
    "\n",
    "<img src=\"https://www.evernote.com/l/AAGhSgfs1nZHAIYfbnmNaHU8YjMV2i9fTmgB/image.png\" width=600px>\n",
    "\n",
    "The process transforms the original data into **topic-encoded data**.\n",
    "\n",
    "Here, each row is indexed by its original text value. The data now consists of two columns of data one representing each of the two topics used to encode the **body**. Recall that this value of 2 was passed as an argument to the `TruncatedSVD` in the previous step."
   ]
  },
  {
   "cell_type": "code",
   "execution_count": 5,
   "metadata": {
    "application/vnd.databricks.v1+cell": {
     "cellMetadata": {},
     "inputWidgets": {},
     "nuid": "4df7496a-35fe-4ef7-8722-7b1db6f70e75",
     "showTitle": false,
     "title": ""
    },
    "execution": {
     "iopub.execute_input": "2023-06-13T02:53:27.119050Z",
     "iopub.status.busy": "2023-06-13T02:53:27.118048Z",
     "iopub.status.idle": "2023-06-13T02:53:27.488450Z",
     "shell.execute_reply": "2023-06-13T02:53:27.488450Z",
     "shell.execute_reply.started": "2023-06-13T02:53:27.119050Z"
    }
   },
   "outputs": [
    {
     "data": {
      "text/html": [
       "<div>\n",
       "<style scoped>\n",
       "    .dataframe tbody tr th:only-of-type {\n",
       "        vertical-align: middle;\n",
       "    }\n",
       "\n",
       "    .dataframe tbody tr th {\n",
       "        vertical-align: top;\n",
       "    }\n",
       "\n",
       "    .dataframe thead th {\n",
       "        text-align: right;\n",
       "    }\n",
       "</style>\n",
       "<table border=\"1\" class=\"dataframe\">\n",
       "  <thead>\n",
       "    <tr style=\"text-align: right;\">\n",
       "      <th></th>\n",
       "      <th>body</th>\n",
       "      <th>topic_1</th>\n",
       "      <th>topic_2</th>\n",
       "    </tr>\n",
       "  </thead>\n",
       "  <tbody>\n",
       "    <tr>\n",
       "      <th>0</th>\n",
       "      <td>the quick brown fox</td>\n",
       "      <td>1.694905</td>\n",
       "      <td>0.299524</td>\n",
       "    </tr>\n",
       "    <tr>\n",
       "      <th>1</th>\n",
       "      <td>the slow brown dog</td>\n",
       "      <td>1.515851</td>\n",
       "      <td>-0.769110</td>\n",
       "    </tr>\n",
       "    <tr>\n",
       "      <th>2</th>\n",
       "      <td>the quick red dog</td>\n",
       "      <td>1.515851</td>\n",
       "      <td>-0.769110</td>\n",
       "    </tr>\n",
       "    <tr>\n",
       "      <th>3</th>\n",
       "      <td>the lazy yellow fox</td>\n",
       "      <td>1.266186</td>\n",
       "      <td>1.440585</td>\n",
       "    </tr>\n",
       "  </tbody>\n",
       "</table>\n",
       "</div>"
      ],
      "text/plain": [
       "                  body   topic_1   topic_2\n",
       "0  the quick brown fox  1.694905  0.299524\n",
       "1   the slow brown dog  1.515851 -0.769110\n",
       "2    the quick red dog  1.515851 -0.769110\n",
       "3  the lazy yellow fox  1.266186  1.440585"
      ]
     },
     "metadata": {},
     "output_type": "display_data"
    }
   ],
   "source": [
    "import pandas as pd\n",
    "\n",
    "topic_encoded_df = pd.DataFrame(lsa, columns = [\"topic_1\", \"topic_2\"])\n",
    "topic_encoded_df[\"body\"] = body\n",
    "display(topic_encoded_df[[\"body\", \"topic_1\", \"topic_2\"]])"
   ]
  },
  {
   "cell_type": "markdown",
   "metadata": {
    "application/vnd.databricks.v1+cell": {
     "cellMetadata": {},
     "inputWidgets": {},
     "nuid": "708c8f65-55af-4519-8684-778589c0ff42",
     "showTitle": false,
     "title": ""
    }
   },
   "source": [
    "## Byproducts of the Latent Semantic Analysis\n",
    "\n",
    "The LSA generates a few byproducts that are useful for analysis:\n",
    "\n",
    "- the **dictionary** or the set of all words that appear at least once in the **body**\n",
    "- the **encoding matrix** used to encode the documents into topics. The **encoding matrix** can be studied to gain an understanding of the **topics** that are latent to the **body**."
   ]
  },
  {
   "cell_type": "markdown",
   "metadata": {
    "application/vnd.databricks.v1+cell": {
     "cellMetadata": {},
     "inputWidgets": {},
     "nuid": "da1df1b4-66a2-4d52-8574-a12d0bffeacd",
     "showTitle": false,
     "title": ""
    }
   },
   "source": [
    "#### The Dictionary\n",
    "\n",
    "The dictionary is an attribute of a fit `CountVectorizer` model and can be accessed using the `.get_feature_names` method."
   ]
  },
  {
   "cell_type": "code",
   "execution_count": 7,
   "metadata": {
    "application/vnd.databricks.v1+cell": {
     "cellMetadata": {},
     "inputWidgets": {},
     "nuid": "a1dc000a-20a9-4cb8-b68b-2cd24b668af1",
     "showTitle": false,
     "title": ""
    },
    "execution": {
     "iopub.execute_input": "2023-06-13T02:54:01.104901Z",
     "iopub.status.busy": "2023-06-13T02:54:01.104901Z",
     "iopub.status.idle": "2023-06-13T02:54:01.119895Z",
     "shell.execute_reply": "2023-06-13T02:54:01.119895Z",
     "shell.execute_reply.started": "2023-06-13T02:54:01.104901Z"
    },
    "tags": []
   },
   "outputs": [
    {
     "data": {
      "text/plain": [
       "array(['brown', 'dog', 'fox', 'lazy', 'quick', 'red', 'slow', 'the',\n",
       "       'yellow'], dtype=object)"
      ]
     },
     "execution_count": 7,
     "metadata": {},
     "output_type": "execute_result"
    }
   ],
   "source": [
    "dictionary = vectorizer.get_feature_names_out()\n",
    "dictionary"
   ]
  },
  {
   "cell_type": "markdown",
   "metadata": {
    "application/vnd.databricks.v1+cell": {
     "cellMetadata": {},
     "inputWidgets": {},
     "nuid": "a3d00c89-37e0-4c55-b718-24570cf90649",
     "showTitle": false,
     "title": ""
    }
   },
   "source": [
    "#### The Encoding Matrix\n",
    "\n",
    "The **encoding matrix** is comprised of the `components_` stored as an attribute of a fit `TruncatedSVD`. We can examine this matrix to gain an understanding of the **topics** latent to the **body**.\n",
    "\n",
    "**Note:** in `sklearn`, attributes of a model that are generated by a fitting process have a trailing underscore in their name as can be seen here with `svd.components_`."
   ]
  },
  {
   "cell_type": "code",
   "execution_count": 8,
   "metadata": {
    "application/vnd.databricks.v1+cell": {
     "cellMetadata": {},
     "inputWidgets": {},
     "nuid": "29aa6ba1-9e22-4da3-bd81-f25d9b12d6a6",
     "showTitle": false,
     "title": ""
    },
    "execution": {
     "iopub.execute_input": "2023-06-13T02:54:02.233243Z",
     "iopub.status.busy": "2023-06-13T02:54:02.233243Z",
     "iopub.status.idle": "2023-06-13T02:54:02.241499Z",
     "shell.execute_reply": "2023-06-13T02:54:02.241499Z",
     "shell.execute_reply.started": "2023-06-13T02:54:02.233243Z"
    }
   },
   "outputs": [
    {
     "data": {
      "text/html": [
       "<div>\n",
       "<style scoped>\n",
       "    .dataframe tbody tr th:only-of-type {\n",
       "        vertical-align: middle;\n",
       "    }\n",
       "\n",
       "    .dataframe tbody tr th {\n",
       "        vertical-align: top;\n",
       "    }\n",
       "\n",
       "    .dataframe thead th {\n",
       "        text-align: right;\n",
       "    }\n",
       "</style>\n",
       "<table border=\"1\" class=\"dataframe\">\n",
       "  <thead>\n",
       "    <tr style=\"text-align: right;\">\n",
       "      <th></th>\n",
       "      <th>topic_1</th>\n",
       "      <th>topic_2</th>\n",
       "    </tr>\n",
       "  </thead>\n",
       "  <tbody>\n",
       "    <tr>\n",
       "      <th>brown</th>\n",
       "      <td>0.353937</td>\n",
       "      <td>-0.140256</td>\n",
       "    </tr>\n",
       "    <tr>\n",
       "      <th>dog</th>\n",
       "      <td>0.334199</td>\n",
       "      <td>-0.459436</td>\n",
       "    </tr>\n",
       "    <tr>\n",
       "      <th>fox</th>\n",
       "      <td>0.326416</td>\n",
       "      <td>0.519736</td>\n",
       "    </tr>\n",
       "    <tr>\n",
       "      <th>lazy</th>\n",
       "      <td>0.139578</td>\n",
       "      <td>0.430274</td>\n",
       "    </tr>\n",
       "    <tr>\n",
       "      <th>quick</th>\n",
       "      <td>0.353937</td>\n",
       "      <td>-0.140256</td>\n",
       "    </tr>\n",
       "    <tr>\n",
       "      <th>red</th>\n",
       "      <td>0.167100</td>\n",
       "      <td>-0.229718</td>\n",
       "    </tr>\n",
       "    <tr>\n",
       "      <th>slow</th>\n",
       "      <td>0.167100</td>\n",
       "      <td>-0.229718</td>\n",
       "    </tr>\n",
       "    <tr>\n",
       "      <th>the</th>\n",
       "      <td>0.660615</td>\n",
       "      <td>0.060300</td>\n",
       "    </tr>\n",
       "    <tr>\n",
       "      <th>yellow</th>\n",
       "      <td>0.139578</td>\n",
       "      <td>0.430274</td>\n",
       "    </tr>\n",
       "  </tbody>\n",
       "</table>\n",
       "</div>"
      ],
      "text/plain": [
       "         topic_1   topic_2\n",
       "brown   0.353937 -0.140256\n",
       "dog     0.334199 -0.459436\n",
       "fox     0.326416  0.519736\n",
       "lazy    0.139578  0.430274\n",
       "quick   0.353937 -0.140256\n",
       "red     0.167100 -0.229718\n",
       "slow    0.167100 -0.229718\n",
       "the     0.660615  0.060300\n",
       "yellow  0.139578  0.430274"
      ]
     },
     "execution_count": 8,
     "metadata": {},
     "output_type": "execute_result"
    }
   ],
   "source": [
    "encoding_matrix = pd.DataFrame(svd.components_,\n",
    "                               index=['topic_1', 'topic_2'],\n",
    "                               columns=dictionary).T\n",
    "encoding_matrix"
   ]
  },
  {
   "cell_type": "markdown",
   "metadata": {
    "application/vnd.databricks.v1+cell": {
     "cellMetadata": {},
     "inputWidgets": {},
     "nuid": "d31ca5c5-ed8b-42e5-9b34-ddc879af441d",
     "showTitle": false,
     "title": ""
    }
   },
   "source": [
    "#### Interpret The Encoding Matrix\n",
    "\n",
    "What are the top words for each topic? What dimensions in word-space explain most of the variance in the data? \n",
    "\n",
    "To analyze this, we will need to look at the *absolute value* of the expression of each word in the topic."
   ]
  },
  {
   "cell_type": "code",
   "execution_count": 9,
   "metadata": {
    "application/vnd.databricks.v1+cell": {
     "cellMetadata": {},
     "inputWidgets": {},
     "nuid": "07c9f804-5585-495a-b1f7-2ca5b77f9393",
     "showTitle": false,
     "title": ""
    },
    "execution": {
     "iopub.execute_input": "2023-06-13T02:54:03.382931Z",
     "iopub.status.busy": "2023-06-13T02:54:03.382931Z",
     "iopub.status.idle": "2023-06-13T02:54:03.393912Z",
     "shell.execute_reply": "2023-06-13T02:54:03.393403Z",
     "shell.execute_reply.started": "2023-06-13T02:54:03.382931Z"
    }
   },
   "outputs": [
    {
     "data": {
      "text/html": [
       "<div>\n",
       "<style scoped>\n",
       "    .dataframe tbody tr th:only-of-type {\n",
       "        vertical-align: middle;\n",
       "    }\n",
       "\n",
       "    .dataframe tbody tr th {\n",
       "        vertical-align: top;\n",
       "    }\n",
       "\n",
       "    .dataframe thead th {\n",
       "        text-align: right;\n",
       "    }\n",
       "</style>\n",
       "<table border=\"1\" class=\"dataframe\">\n",
       "  <thead>\n",
       "    <tr style=\"text-align: right;\">\n",
       "      <th></th>\n",
       "      <th>topic_1</th>\n",
       "      <th>topic_2</th>\n",
       "      <th>abs_topic_1</th>\n",
       "      <th>abs_topic_2</th>\n",
       "    </tr>\n",
       "  </thead>\n",
       "  <tbody>\n",
       "    <tr>\n",
       "      <th>the</th>\n",
       "      <td>0.660615</td>\n",
       "      <td>0.060300</td>\n",
       "      <td>0.660615</td>\n",
       "      <td>0.060300</td>\n",
       "    </tr>\n",
       "    <tr>\n",
       "      <th>brown</th>\n",
       "      <td>0.353937</td>\n",
       "      <td>-0.140256</td>\n",
       "      <td>0.353937</td>\n",
       "      <td>0.140256</td>\n",
       "    </tr>\n",
       "    <tr>\n",
       "      <th>quick</th>\n",
       "      <td>0.353937</td>\n",
       "      <td>-0.140256</td>\n",
       "      <td>0.353937</td>\n",
       "      <td>0.140256</td>\n",
       "    </tr>\n",
       "    <tr>\n",
       "      <th>dog</th>\n",
       "      <td>0.334199</td>\n",
       "      <td>-0.459436</td>\n",
       "      <td>0.334199</td>\n",
       "      <td>0.459436</td>\n",
       "    </tr>\n",
       "    <tr>\n",
       "      <th>fox</th>\n",
       "      <td>0.326416</td>\n",
       "      <td>0.519736</td>\n",
       "      <td>0.326416</td>\n",
       "      <td>0.519736</td>\n",
       "    </tr>\n",
       "    <tr>\n",
       "      <th>red</th>\n",
       "      <td>0.167100</td>\n",
       "      <td>-0.229718</td>\n",
       "      <td>0.167100</td>\n",
       "      <td>0.229718</td>\n",
       "    </tr>\n",
       "    <tr>\n",
       "      <th>slow</th>\n",
       "      <td>0.167100</td>\n",
       "      <td>-0.229718</td>\n",
       "      <td>0.167100</td>\n",
       "      <td>0.229718</td>\n",
       "    </tr>\n",
       "    <tr>\n",
       "      <th>lazy</th>\n",
       "      <td>0.139578</td>\n",
       "      <td>0.430274</td>\n",
       "      <td>0.139578</td>\n",
       "      <td>0.430274</td>\n",
       "    </tr>\n",
       "    <tr>\n",
       "      <th>yellow</th>\n",
       "      <td>0.139578</td>\n",
       "      <td>0.430274</td>\n",
       "      <td>0.139578</td>\n",
       "      <td>0.430274</td>\n",
       "    </tr>\n",
       "  </tbody>\n",
       "</table>\n",
       "</div>"
      ],
      "text/plain": [
       "         topic_1   topic_2  abs_topic_1  abs_topic_2\n",
       "the     0.660615  0.060300     0.660615     0.060300\n",
       "brown   0.353937 -0.140256     0.353937     0.140256\n",
       "quick   0.353937 -0.140256     0.353937     0.140256\n",
       "dog     0.334199 -0.459436     0.334199     0.459436\n",
       "fox     0.326416  0.519736     0.326416     0.519736\n",
       "red     0.167100 -0.229718     0.167100     0.229718\n",
       "slow    0.167100 -0.229718     0.167100     0.229718\n",
       "lazy    0.139578  0.430274     0.139578     0.430274\n",
       "yellow  0.139578  0.430274     0.139578     0.430274"
      ]
     },
     "execution_count": 9,
     "metadata": {},
     "output_type": "execute_result"
    }
   ],
   "source": [
    "import numpy as np\n",
    "\n",
    "encoding_matrix['abs_topic_1'] = np.abs(encoding_matrix['topic_1'])\n",
    "encoding_matrix['abs_topic_2'] = np.abs(encoding_matrix['topic_2'])\n",
    "encoding_matrix.sort_values('abs_topic_1', ascending=False)"
   ]
  },
  {
   "cell_type": "code",
   "execution_count": 10,
   "metadata": {
    "application/vnd.databricks.v1+cell": {
     "cellMetadata": {},
     "inputWidgets": {},
     "nuid": "801e1df8-f4e4-4239-957d-29fd63b14f62",
     "showTitle": false,
     "title": ""
    },
    "execution": {
     "iopub.execute_input": "2023-06-13T02:54:03.981895Z",
     "iopub.status.busy": "2023-06-13T02:54:03.981895Z",
     "iopub.status.idle": "2023-06-13T02:54:03.999401Z",
     "shell.execute_reply": "2023-06-13T02:54:03.999401Z",
     "shell.execute_reply.started": "2023-06-13T02:54:03.981895Z"
    }
   },
   "outputs": [
    {
     "data": {
      "text/html": [
       "<div>\n",
       "<style scoped>\n",
       "    .dataframe tbody tr th:only-of-type {\n",
       "        vertical-align: middle;\n",
       "    }\n",
       "\n",
       "    .dataframe tbody tr th {\n",
       "        vertical-align: top;\n",
       "    }\n",
       "\n",
       "    .dataframe thead th {\n",
       "        text-align: right;\n",
       "    }\n",
       "</style>\n",
       "<table border=\"1\" class=\"dataframe\">\n",
       "  <thead>\n",
       "    <tr style=\"text-align: right;\">\n",
       "      <th></th>\n",
       "      <th>topic_1</th>\n",
       "      <th>topic_2</th>\n",
       "      <th>abs_topic_1</th>\n",
       "      <th>abs_topic_2</th>\n",
       "    </tr>\n",
       "  </thead>\n",
       "  <tbody>\n",
       "    <tr>\n",
       "      <th>fox</th>\n",
       "      <td>0.326416</td>\n",
       "      <td>0.519736</td>\n",
       "      <td>0.326416</td>\n",
       "      <td>0.519736</td>\n",
       "    </tr>\n",
       "    <tr>\n",
       "      <th>dog</th>\n",
       "      <td>0.334199</td>\n",
       "      <td>-0.459436</td>\n",
       "      <td>0.334199</td>\n",
       "      <td>0.459436</td>\n",
       "    </tr>\n",
       "    <tr>\n",
       "      <th>lazy</th>\n",
       "      <td>0.139578</td>\n",
       "      <td>0.430274</td>\n",
       "      <td>0.139578</td>\n",
       "      <td>0.430274</td>\n",
       "    </tr>\n",
       "    <tr>\n",
       "      <th>yellow</th>\n",
       "      <td>0.139578</td>\n",
       "      <td>0.430274</td>\n",
       "      <td>0.139578</td>\n",
       "      <td>0.430274</td>\n",
       "    </tr>\n",
       "    <tr>\n",
       "      <th>red</th>\n",
       "      <td>0.167100</td>\n",
       "      <td>-0.229718</td>\n",
       "      <td>0.167100</td>\n",
       "      <td>0.229718</td>\n",
       "    </tr>\n",
       "    <tr>\n",
       "      <th>slow</th>\n",
       "      <td>0.167100</td>\n",
       "      <td>-0.229718</td>\n",
       "      <td>0.167100</td>\n",
       "      <td>0.229718</td>\n",
       "    </tr>\n",
       "    <tr>\n",
       "      <th>quick</th>\n",
       "      <td>0.353937</td>\n",
       "      <td>-0.140256</td>\n",
       "      <td>0.353937</td>\n",
       "      <td>0.140256</td>\n",
       "    </tr>\n",
       "    <tr>\n",
       "      <th>brown</th>\n",
       "      <td>0.353937</td>\n",
       "      <td>-0.140256</td>\n",
       "      <td>0.353937</td>\n",
       "      <td>0.140256</td>\n",
       "    </tr>\n",
       "    <tr>\n",
       "      <th>the</th>\n",
       "      <td>0.660615</td>\n",
       "      <td>0.060300</td>\n",
       "      <td>0.660615</td>\n",
       "      <td>0.060300</td>\n",
       "    </tr>\n",
       "  </tbody>\n",
       "</table>\n",
       "</div>"
      ],
      "text/plain": [
       "         topic_1   topic_2  abs_topic_1  abs_topic_2\n",
       "fox     0.326416  0.519736     0.326416     0.519736\n",
       "dog     0.334199 -0.459436     0.334199     0.459436\n",
       "lazy    0.139578  0.430274     0.139578     0.430274\n",
       "yellow  0.139578  0.430274     0.139578     0.430274\n",
       "red     0.167100 -0.229718     0.167100     0.229718\n",
       "slow    0.167100 -0.229718     0.167100     0.229718\n",
       "quick   0.353937 -0.140256     0.353937     0.140256\n",
       "brown   0.353937 -0.140256     0.353937     0.140256\n",
       "the     0.660615  0.060300     0.660615     0.060300"
      ]
     },
     "execution_count": 10,
     "metadata": {},
     "output_type": "execute_result"
    }
   ],
   "source": [
    "encoding_matrix.sort_values('abs_topic_2', ascending=False)"
   ]
  },
  {
   "cell_type": "markdown",
   "metadata": {
    "application/vnd.databricks.v1+cell": {
     "cellMetadata": {},
     "inputWidgets": {},
     "nuid": "e6c1a848-c53c-4bcc-92eb-1c7797ae87c8",
     "showTitle": false,
     "title": ""
    }
   },
   "source": [
    "## Latent Semantic Analysis of Two Poems"
   ]
  },
  {
   "cell_type": "markdown",
   "metadata": {
    "application/vnd.databricks.v1+cell": {
     "cellMetadata": {},
     "inputWidgets": {},
     "nuid": "d212ea48-e1d6-458d-9919-a0e0d2a8170c",
     "showTitle": false,
     "title": ""
    }
   },
   "source": [
    "**Latent Semantic Analysis (LSA)** is:\n",
    "\n",
    "- a natural language processing technique\n",
    "- an unsupervised learning technique\n",
    "- aims to create representations of the documents in a body based on the topics inherent to that body\n",
    "- reducing the dimensionality of a text-based dataset\n",
    "- consists of two steps:\n",
    "   - creating a document-term matrix\n",
    "   - dimensionality reduction via a singular value decomposition\n",
    "\n",
    "![](https://www.evernote.com/l/AAGiYGcKcIxIaJ7sCg97K9JDtUO2dY9mywoB/image.png)"
   ]
  },
  {
   "cell_type": "markdown",
   "metadata": {
    "application/vnd.databricks.v1+cell": {
     "cellMetadata": {},
     "inputWidgets": {},
     "nuid": "2b84ec7c-d9ba-4234-8f7d-ddccb96a89b2",
     "showTitle": false,
     "title": ""
    }
   },
   "source": [
    "### Raw Text Data\n",
    "\n",
    "<img src=\"https://www.evernote.com/l/AAFfAyDQQ1xGPLTIxT2hcUSLrHuQDbYzsuYB/image.png\" width=600px>\n",
    "\n",
    "Here each line of text from a book is a **document** and the collection of all lines of text from the two books is the **body**."
   ]
  },
  {
   "cell_type": "code",
   "execution_count": 14,
   "metadata": {
    "application/vnd.databricks.v1+cell": {
     "cellMetadata": {},
     "inputWidgets": {},
     "nuid": "cba79087-7685-4ce3-9e47-62de850e958c",
     "showTitle": false,
     "title": ""
    },
    "execution": {
     "iopub.execute_input": "2023-06-13T02:56:01.909983Z",
     "iopub.status.busy": "2023-06-13T02:56:01.908989Z",
     "iopub.status.idle": "2023-06-13T02:56:01.921538Z",
     "shell.execute_reply": "2023-06-13T02:56:01.921538Z",
     "shell.execute_reply.started": "2023-06-13T02:56:01.909983Z"
    },
    "scrolled": true,
    "tags": []
   },
   "outputs": [],
   "source": [
    "# import urllib\n",
    "# import sys\n",
    "\n",
    "# if sys.version[0] == \"3\":\n",
    "#   retrieve = urllib.request.urlretrieve\n",
    "# else:\n",
    "#   rerieve = urllib.urlretrieve\n",
    "  \n",
    "# retrieve(\"https://files.training.databricks.com/classes/lsa-videos/body.csv\",\"/dbfs/tmp/body.csv\")\n",
    "# bodyDF = (spark.read\n",
    "#   .option(\"header\", \"true\")\n",
    "#   .csv(\"/tmp/body.csv\"))\n",
    "# display(bodyDF)\n",
    "\n"
   ]
  },
  {
   "cell_type": "code",
   "execution_count": 13,
   "metadata": {
    "application/vnd.databricks.v1+cell": {
     "cellMetadata": {},
     "inputWidgets": {},
     "nuid": "0cef8827-4007-4407-83e7-732fb4026b6d",
     "showTitle": false,
     "title": ""
    },
    "execution": {
     "iopub.execute_input": "2023-06-13T02:55:54.549636Z",
     "iopub.status.busy": "2023-06-13T02:55:54.549636Z",
     "iopub.status.idle": "2023-06-13T02:55:56.226425Z",
     "shell.execute_reply": "2023-06-13T02:55:56.225420Z",
     "shell.execute_reply.started": "2023-06-13T02:55:54.549636Z"
    },
    "tags": []
   },
   "outputs": [
    {
     "data": {
      "text/html": [
       "<div>\n",
       "<style scoped>\n",
       "    .dataframe tbody tr th:only-of-type {\n",
       "        vertical-align: middle;\n",
       "    }\n",
       "\n",
       "    .dataframe tbody tr th {\n",
       "        vertical-align: top;\n",
       "    }\n",
       "\n",
       "    .dataframe thead th {\n",
       "        text-align: right;\n",
       "    }\n",
       "</style>\n",
       "<table border=\"1\" class=\"dataframe\">\n",
       "  <thead>\n",
       "    <tr style=\"text-align: right;\">\n",
       "      <th></th>\n",
       "      <th>sentence</th>\n",
       "      <th>title</th>\n",
       "    </tr>\n",
       "  </thead>\n",
       "  <tbody>\n",
       "    <tr>\n",
       "      <th>62</th>\n",
       "      <td>And each separate dying ember wrought its ghos...</td>\n",
       "      <td>The Raven</td>\n",
       "    </tr>\n",
       "    <tr>\n",
       "      <th>151</th>\n",
       "      <td>“Be that word our sign of parting, bird or fie...</td>\n",
       "      <td>The Raven</td>\n",
       "    </tr>\n",
       "    <tr>\n",
       "      <th>102</th>\n",
       "      <td>Quoth the Raven “Nevermore.”</td>\n",
       "      <td>The Raven</td>\n",
       "    </tr>\n",
       "    <tr>\n",
       "      <th>132</th>\n",
       "      <td>She shall press, ah, nevermore!</td>\n",
       "      <td>The Raven</td>\n",
       "    </tr>\n",
       "    <tr>\n",
       "      <th>134</th>\n",
       "      <td>Swung by Seraphim whose foot-falls tinkled on ...</td>\n",
       "      <td>The Raven</td>\n",
       "    </tr>\n",
       "  </tbody>\n",
       "</table>\n",
       "</div>"
      ],
      "text/plain": [
       "                                              sentence      title\n",
       "62   And each separate dying ember wrought its ghos...  The Raven\n",
       "151  “Be that word our sign of parting, bird or fie...  The Raven\n",
       "102                       Quoth the Raven “Nevermore.”  The Raven\n",
       "132                    She shall press, ah, nevermore!  The Raven\n",
       "134  Swung by Seraphim whose foot-falls tinkled on ...  The Raven"
      ]
     },
     "metadata": {},
     "output_type": "display_data"
    }
   ],
   "source": [
    "body_df = pd.read_csv(\"https://files.training.databricks.com/classes/lsa-videos/body.csv\")\n",
    "# bodyDF.toPandas()\n",
    "\n",
    "sample_df = body_df.sample(5)\n",
    "sample_indices = sample_df.index\n",
    "display(sample_df)"
   ]
  },
  {
   "cell_type": "markdown",
   "metadata": {
    "application/vnd.databricks.v1+cell": {
     "cellMetadata": {},
     "inputWidgets": {},
     "nuid": "0bec33ee-089d-40c1-952a-d883fa476026",
     "showTitle": false,
     "title": ""
    }
   },
   "source": [
    "### Document-Term Matrix\n",
    "\n",
    "<img src=\"https://www.evernote.com/l/AAFtjaKOjT5CYr5N_NPHKU6vpBWNnBgbWLIB/image.png\" width=600px>\n",
    "\n",
    "Again, we use `CountVectorizer`, now with a few more arguments:\n",
    "\n",
    "- `min_df` signifies the number of documents in which a term must appear in order for it to be counted\n",
    "- You can view the `english` `stop_words` here: https://github.com/scikit-learn/scikit-learn/blob/master/sklearn/feature_extraction/stop_words.py\n",
    "\n",
    "Note that `CountVectorizer` returns a [sparse](https://en.wikipedia.org/wiki/Sparse_matrix) matrix [[doc](http://scikit-learn.org/stable/modules/generated/sklearn.feature_extraction.text.CountVectorizer.html#sklearn.feature_extraction.text.CountVectorizer.transform)]."
   ]
  },
  {
   "cell_type": "code",
   "execution_count": 15,
   "metadata": {
    "application/vnd.databricks.v1+cell": {
     "cellMetadata": {},
     "inputWidgets": {},
     "nuid": "d46e0149-08ee-41a1-bbd1-eddb06c18561",
     "showTitle": false,
     "title": ""
    },
    "execution": {
     "iopub.execute_input": "2023-06-13T02:56:08.713370Z",
     "iopub.status.busy": "2023-06-13T02:56:08.713370Z",
     "iopub.status.idle": "2023-06-13T02:56:08.730459Z",
     "shell.execute_reply": "2023-06-13T02:56:08.730459Z",
     "shell.execute_reply.started": "2023-06-13T02:56:08.713370Z"
    },
    "tags": []
   },
   "outputs": [],
   "source": [
    "from sklearn.feature_extraction.text import CountVectorizer\n",
    "\n",
    "vectorizer = CountVectorizer(min_df=1, stop_words='english')\n",
    "bag_of_words = vectorizer.fit_transform(body_df.sentence)"
   ]
  },
  {
   "cell_type": "markdown",
   "metadata": {
    "application/vnd.databricks.v1+cell": {
     "cellMetadata": {},
     "inputWidgets": {},
     "nuid": "08a8ed8e-1fc8-472c-9576-5b4dffb324ce",
     "showTitle": false,
     "title": ""
    }
   },
   "source": [
    "### Singular Value Decomposition\n",
    "\n",
    "<img src=\"https://www.evernote.com/l/AAEhTiOBufhPwKBx-Hgufx4XZ5XyfsCp8cMB/image.png\" width=600px>"
   ]
  },
  {
   "cell_type": "code",
   "execution_count": 16,
   "metadata": {
    "application/vnd.databricks.v1+cell": {
     "cellMetadata": {},
     "inputWidgets": {},
     "nuid": "707a4f4a-3cdc-4d1e-b7b6-2e786ef18863",
     "showTitle": false,
     "title": ""
    },
    "execution": {
     "iopub.execute_input": "2023-06-13T02:56:10.013464Z",
     "iopub.status.busy": "2023-06-13T02:56:10.013464Z",
     "iopub.status.idle": "2023-06-13T02:56:10.039979Z",
     "shell.execute_reply": "2023-06-13T02:56:10.039979Z",
     "shell.execute_reply.started": "2023-06-13T02:56:10.013464Z"
    }
   },
   "outputs": [],
   "source": [
    "svd = TruncatedSVD(n_components=2)\n",
    "lsa = svd.fit_transform(bag_of_words)"
   ]
  },
  {
   "cell_type": "markdown",
   "metadata": {
    "application/vnd.databricks.v1+cell": {
     "cellMetadata": {},
     "inputWidgets": {},
     "nuid": "61273d7a-5ec0-4f75-8edb-e7ad4eac13e5",
     "showTitle": false,
     "title": ""
    }
   },
   "source": [
    "### Topic Encoded Data\n",
    "\n",
    "<img src=\"https://www.evernote.com/l/AAGhSgfs1nZHAIYfbnmNaHU8YjMV2i9fTmgB/image.png\" width=600px>"
   ]
  },
  {
   "cell_type": "code",
   "execution_count": 17,
   "metadata": {
    "application/vnd.databricks.v1+cell": {
     "cellMetadata": {},
     "inputWidgets": {},
     "nuid": "eeda4dd5-6ea6-4888-8e53-8ca5298b996d",
     "showTitle": false,
     "title": ""
    },
    "execution": {
     "iopub.execute_input": "2023-06-13T02:56:10.950176Z",
     "iopub.status.busy": "2023-06-13T02:56:10.950176Z",
     "iopub.status.idle": "2023-06-13T02:56:10.962805Z",
     "shell.execute_reply": "2023-06-13T02:56:10.962805Z",
     "shell.execute_reply.started": "2023-06-13T02:56:10.950176Z"
    }
   },
   "outputs": [
    {
     "data": {
      "text/html": [
       "<div>\n",
       "<style scoped>\n",
       "    .dataframe tbody tr th:only-of-type {\n",
       "        vertical-align: middle;\n",
       "    }\n",
       "\n",
       "    .dataframe tbody tr th {\n",
       "        vertical-align: top;\n",
       "    }\n",
       "\n",
       "    .dataframe thead th {\n",
       "        text-align: right;\n",
       "    }\n",
       "</style>\n",
       "<table border=\"1\" class=\"dataframe\">\n",
       "  <thead>\n",
       "    <tr style=\"text-align: right;\">\n",
       "      <th></th>\n",
       "      <th>topic_1</th>\n",
       "      <th>topic_2</th>\n",
       "      <th>sentence</th>\n",
       "      <th>Is_Poe</th>\n",
       "    </tr>\n",
       "  </thead>\n",
       "  <tbody>\n",
       "    <tr>\n",
       "      <th>62</th>\n",
       "      <td>0.003154</td>\n",
       "      <td>-0.009509</td>\n",
       "      <td>And each separate dying ember wrought its ghos...</td>\n",
       "      <td>True</td>\n",
       "    </tr>\n",
       "    <tr>\n",
       "      <th>151</th>\n",
       "      <td>0.297399</td>\n",
       "      <td>0.670706</td>\n",
       "      <td>“Be that word our sign of parting, bird or fie...</td>\n",
       "      <td>True</td>\n",
       "    </tr>\n",
       "    <tr>\n",
       "      <th>102</th>\n",
       "      <td>0.063550</td>\n",
       "      <td>0.712478</td>\n",
       "      <td>Quoth the Raven “Nevermore.”</td>\n",
       "      <td>True</td>\n",
       "    </tr>\n",
       "    <tr>\n",
       "      <th>132</th>\n",
       "      <td>0.027981</td>\n",
       "      <td>0.363923</td>\n",
       "      <td>She shall press, ah, nevermore!</td>\n",
       "      <td>True</td>\n",
       "    </tr>\n",
       "    <tr>\n",
       "      <th>134</th>\n",
       "      <td>0.003310</td>\n",
       "      <td>-0.013871</td>\n",
       "      <td>Swung by Seraphim whose foot-falls tinkled on ...</td>\n",
       "      <td>True</td>\n",
       "    </tr>\n",
       "  </tbody>\n",
       "</table>\n",
       "</div>"
      ],
      "text/plain": [
       "      topic_1   topic_2                                           sentence  \\\n",
       "62   0.003154 -0.009509  And each separate dying ember wrought its ghos...   \n",
       "151  0.297399  0.670706  “Be that word our sign of parting, bird or fie...   \n",
       "102  0.063550  0.712478                       Quoth the Raven “Nevermore.”   \n",
       "132  0.027981  0.363923                    She shall press, ah, nevermore!   \n",
       "134  0.003310 -0.013871  Swung by Seraphim whose foot-falls tinkled on ...   \n",
       "\n",
       "     Is_Poe  \n",
       "62     True  \n",
       "151    True  \n",
       "102    True  \n",
       "132    True  \n",
       "134    True  "
      ]
     },
     "metadata": {},
     "output_type": "display_data"
    }
   ],
   "source": [
    "topic_encoded_df = pd.DataFrame(lsa, columns = [\"topic_1\", \"topic_2\"])\n",
    "topic_encoded_df['sentence'] = body_df.sentence\n",
    "topic_encoded_df['Is_Poe'] = (body_df.title == \"The Raven\")\n",
    "display(topic_encoded_df.iloc[sample_indices])"
   ]
  },
  {
   "cell_type": "markdown",
   "metadata": {
    "application/vnd.databricks.v1+cell": {
     "cellMetadata": {},
     "inputWidgets": {},
     "nuid": "756216f7-bbe1-4444-a16f-2ec0b5f57e93",
     "showTitle": false,
     "title": ""
    }
   },
   "source": [
    "#### The Dictionary"
   ]
  },
  {
   "cell_type": "code",
   "execution_count": 19,
   "metadata": {
    "application/vnd.databricks.v1+cell": {
     "cellMetadata": {},
     "inputWidgets": {},
     "nuid": "67155c74-bf73-4716-a450-0775e9f18681",
     "showTitle": false,
     "title": ""
    },
    "execution": {
     "iopub.execute_input": "2023-06-13T02:56:17.111606Z",
     "iopub.status.busy": "2023-06-13T02:56:17.111606Z",
     "iopub.status.idle": "2023-06-13T02:56:17.127527Z",
     "shell.execute_reply": "2023-06-13T02:56:17.127527Z",
     "shell.execute_reply.started": "2023-06-13T02:56:17.111606Z"
    },
    "tags": []
   },
   "outputs": [
    {
     "data": {
      "text/plain": [
       "array(['adore', 'agreeing', 'ah', 'aidenn', 'air', 'ancient', 'angels',\n",
       "       'answer', 'aptly', 'army'], dtype=object)"
      ]
     },
     "execution_count": 19,
     "metadata": {},
     "output_type": "execute_result"
    }
   ],
   "source": [
    "dictionary = vectorizer.get_feature_names_out()\n",
    "dictionary[:10]"
   ]
  },
  {
   "cell_type": "markdown",
   "metadata": {
    "application/vnd.databricks.v1+cell": {
     "cellMetadata": {},
     "inputWidgets": {},
     "nuid": "e0ca457b-9569-43c0-8e23-6c6b28b379a6",
     "showTitle": false,
     "title": ""
    }
   },
   "source": [
    "#### The Encoding Matrix"
   ]
  },
  {
   "cell_type": "code",
   "execution_count": 20,
   "metadata": {
    "application/vnd.databricks.v1+cell": {
     "cellMetadata": {},
     "inputWidgets": {},
     "nuid": "29f48ed5-e4e1-4d74-a3bc-cc6072c117aa",
     "showTitle": false,
     "title": ""
    },
    "execution": {
     "iopub.execute_input": "2023-06-13T02:56:18.289494Z",
     "iopub.status.busy": "2023-06-13T02:56:18.289494Z",
     "iopub.status.idle": "2023-06-13T02:56:18.314482Z",
     "shell.execute_reply": "2023-06-13T02:56:18.314482Z",
     "shell.execute_reply.started": "2023-06-13T02:56:18.289494Z"
    }
   },
   "outputs": [
    {
     "data": {
      "text/html": [
       "<div>\n",
       "<style scoped>\n",
       "    .dataframe tbody tr th:only-of-type {\n",
       "        vertical-align: middle;\n",
       "    }\n",
       "\n",
       "    .dataframe tbody tr th {\n",
       "        vertical-align: top;\n",
       "    }\n",
       "\n",
       "    .dataframe thead th {\n",
       "        text-align: right;\n",
       "    }\n",
       "</style>\n",
       "<table border=\"1\" class=\"dataframe\">\n",
       "  <thead>\n",
       "    <tr style=\"text-align: right;\">\n",
       "      <th></th>\n",
       "      <th>topic_1</th>\n",
       "      <th>topic_2</th>\n",
       "      <th>terms</th>\n",
       "    </tr>\n",
       "  </thead>\n",
       "  <tbody>\n",
       "    <tr>\n",
       "      <th>0</th>\n",
       "      <td>0.000230</td>\n",
       "      <td>0.000910</td>\n",
       "      <td>adore</td>\n",
       "    </tr>\n",
       "    <tr>\n",
       "      <th>1</th>\n",
       "      <td>0.000004</td>\n",
       "      <td>-0.000015</td>\n",
       "      <td>agreeing</td>\n",
       "    </tr>\n",
       "    <tr>\n",
       "      <th>2</th>\n",
       "      <td>0.000876</td>\n",
       "      <td>0.017793</td>\n",
       "      <td>ah</td>\n",
       "    </tr>\n",
       "    <tr>\n",
       "      <th>3</th>\n",
       "      <td>0.001823</td>\n",
       "      <td>0.002727</td>\n",
       "      <td>aidenn</td>\n",
       "    </tr>\n",
       "    <tr>\n",
       "      <th>4</th>\n",
       "      <td>-0.000004</td>\n",
       "      <td>-0.000066</td>\n",
       "      <td>air</td>\n",
       "    </tr>\n",
       "    <tr>\n",
       "      <th>...</th>\n",
       "      <td>...</td>\n",
       "      <td>...</td>\n",
       "      <td>...</td>\n",
       "    </tr>\n",
       "    <tr>\n",
       "      <th>400</th>\n",
       "      <td>-0.000019</td>\n",
       "      <td>0.000157</td>\n",
       "      <td>wore</td>\n",
       "    </tr>\n",
       "    <tr>\n",
       "      <th>401</th>\n",
       "      <td>0.000002</td>\n",
       "      <td>0.000011</td>\n",
       "      <td>world</td>\n",
       "    </tr>\n",
       "    <tr>\n",
       "      <th>402</th>\n",
       "      <td>0.006082</td>\n",
       "      <td>0.017687</td>\n",
       "      <td>wretch</td>\n",
       "    </tr>\n",
       "    <tr>\n",
       "      <th>403</th>\n",
       "      <td>0.000203</td>\n",
       "      <td>-0.001140</td>\n",
       "      <td>wrought</td>\n",
       "    </tr>\n",
       "    <tr>\n",
       "      <th>404</th>\n",
       "      <td>0.023680</td>\n",
       "      <td>0.106720</td>\n",
       "      <td>yore</td>\n",
       "    </tr>\n",
       "  </tbody>\n",
       "</table>\n",
       "<p>405 rows × 3 columns</p>\n",
       "</div>"
      ],
      "text/plain": [
       "      topic_1   topic_2     terms\n",
       "0    0.000230  0.000910     adore\n",
       "1    0.000004 -0.000015  agreeing\n",
       "2    0.000876  0.017793        ah\n",
       "3    0.001823  0.002727    aidenn\n",
       "4   -0.000004 -0.000066       air\n",
       "..        ...       ...       ...\n",
       "400 -0.000019  0.000157      wore\n",
       "401  0.000002  0.000011     world\n",
       "402  0.006082  0.017687    wretch\n",
       "403  0.000203 -0.001140   wrought\n",
       "404  0.023680  0.106720      yore\n",
       "\n",
       "[405 rows x 3 columns]"
      ]
     },
     "metadata": {},
     "output_type": "display_data"
    }
   ],
   "source": [
    "encoding_matrix = pd.DataFrame(svd.components_,\n",
    "                               index=['topic_1', 'topic_2']).T\n",
    "encoding_matrix[\"terms\"] = dictionary\n",
    "display(encoding_matrix)"
   ]
  },
  {
   "cell_type": "markdown",
   "metadata": {
    "application/vnd.databricks.v1+cell": {
     "cellMetadata": {},
     "inputWidgets": {},
     "nuid": "3ae56b73-a5cc-436c-869a-7343fa9881c8",
     "showTitle": false,
     "title": ""
    }
   },
   "source": [
    "#### Interpret The Encoding Matrix\n",
    "\n",
    "What are the top \"concepts\"? What dimensions in term-space explain most of the variance in the data?"
   ]
  },
  {
   "cell_type": "code",
   "execution_count": 21,
   "metadata": {
    "application/vnd.databricks.v1+cell": {
     "cellMetadata": {},
     "inputWidgets": {},
     "nuid": "6720d729-63c1-4447-9db2-648949ad1a50",
     "showTitle": false,
     "title": ""
    },
    "execution": {
     "iopub.execute_input": "2023-06-13T02:56:19.540191Z",
     "iopub.status.busy": "2023-06-13T02:56:19.539016Z",
     "iopub.status.idle": "2023-06-13T02:56:19.562874Z",
     "shell.execute_reply": "2023-06-13T02:56:19.562368Z",
     "shell.execute_reply.started": "2023-06-13T02:56:19.540191Z"
    }
   },
   "outputs": [
    {
     "data": {
      "text/html": [
       "<div>\n",
       "<style scoped>\n",
       "    .dataframe tbody tr th:only-of-type {\n",
       "        vertical-align: middle;\n",
       "    }\n",
       "\n",
       "    .dataframe tbody tr th {\n",
       "        vertical-align: top;\n",
       "    }\n",
       "\n",
       "    .dataframe thead th {\n",
       "        text-align: right;\n",
       "    }\n",
       "</style>\n",
       "<table border=\"1\" class=\"dataframe\">\n",
       "  <thead>\n",
       "    <tr style=\"text-align: right;\">\n",
       "      <th></th>\n",
       "      <th>topic_1</th>\n",
       "      <th>topic_2</th>\n",
       "      <th>terms</th>\n",
       "      <th>abs_topic_1</th>\n",
       "      <th>abs_topic_2</th>\n",
       "    </tr>\n",
       "  </thead>\n",
       "  <tbody>\n",
       "    <tr>\n",
       "      <th>78</th>\n",
       "      <td>6.317652e-01</td>\n",
       "      <td>-1.330193e-01</td>\n",
       "      <td>door</td>\n",
       "      <td>6.317652e-01</td>\n",
       "      <td>1.330193e-01</td>\n",
       "    </tr>\n",
       "    <tr>\n",
       "      <th>42</th>\n",
       "      <td>5.256801e-01</td>\n",
       "      <td>-1.439784e-01</td>\n",
       "      <td>chamber</td>\n",
       "      <td>5.256801e-01</td>\n",
       "      <td>1.439784e-01</td>\n",
       "    </tr>\n",
       "    <tr>\n",
       "      <th>37</th>\n",
       "      <td>2.477706e-01</td>\n",
       "      <td>-3.491615e-03</td>\n",
       "      <td>bust</td>\n",
       "      <td>2.477706e-01</td>\n",
       "      <td>3.491615e-03</td>\n",
       "    </tr>\n",
       "    <tr>\n",
       "      <th>21</th>\n",
       "      <td>2.274548e-01</td>\n",
       "      <td>4.406553e-01</td>\n",
       "      <td>bird</td>\n",
       "      <td>2.274548e-01</td>\n",
       "      <td>4.406553e-01</td>\n",
       "    </tr>\n",
       "    <tr>\n",
       "      <th>345</th>\n",
       "      <td>1.724117e-01</td>\n",
       "      <td>-7.817791e-02</td>\n",
       "      <td>tapping</td>\n",
       "      <td>1.724117e-01</td>\n",
       "      <td>7.817791e-02</td>\n",
       "    </tr>\n",
       "    <tr>\n",
       "      <th>...</th>\n",
       "      <td>...</td>\n",
       "      <td>...</td>\n",
       "      <td>...</td>\n",
       "      <td>...</td>\n",
       "      <td>...</td>\n",
       "    </tr>\n",
       "    <tr>\n",
       "      <th>102</th>\n",
       "      <td>1.479781e-08</td>\n",
       "      <td>4.142416e-08</td>\n",
       "      <td>fade</td>\n",
       "      <td>1.479781e-08</td>\n",
       "      <td>4.142416e-08</td>\n",
       "    </tr>\n",
       "    <tr>\n",
       "      <th>216</th>\n",
       "      <td>-4.956547e-09</td>\n",
       "      <td>2.213498e-08</td>\n",
       "      <td>merely</td>\n",
       "      <td>4.956547e-09</td>\n",
       "      <td>2.213498e-08</td>\n",
       "    </tr>\n",
       "    <tr>\n",
       "      <th>25</th>\n",
       "      <td>-3.810624e-09</td>\n",
       "      <td>3.347238e-10</td>\n",
       "      <td>blundered</td>\n",
       "      <td>3.810624e-09</td>\n",
       "      <td>3.347238e-10</td>\n",
       "    </tr>\n",
       "    <tr>\n",
       "      <th>235</th>\n",
       "      <td>8.725419e-10</td>\n",
       "      <td>1.011686e-08</td>\n",
       "      <td>noble</td>\n",
       "      <td>8.725419e-10</td>\n",
       "      <td>1.011686e-08</td>\n",
       "    </tr>\n",
       "    <tr>\n",
       "      <th>133</th>\n",
       "      <td>4.695346e-10</td>\n",
       "      <td>-6.673763e-09</td>\n",
       "      <td>fought</td>\n",
       "      <td>4.695346e-10</td>\n",
       "      <td>6.673763e-09</td>\n",
       "    </tr>\n",
       "  </tbody>\n",
       "</table>\n",
       "<p>405 rows × 5 columns</p>\n",
       "</div>"
      ],
      "text/plain": [
       "          topic_1       topic_2      terms   abs_topic_1   abs_topic_2\n",
       "78   6.317652e-01 -1.330193e-01       door  6.317652e-01  1.330193e-01\n",
       "42   5.256801e-01 -1.439784e-01    chamber  5.256801e-01  1.439784e-01\n",
       "37   2.477706e-01 -3.491615e-03       bust  2.477706e-01  3.491615e-03\n",
       "21   2.274548e-01  4.406553e-01       bird  2.274548e-01  4.406553e-01\n",
       "345  1.724117e-01 -7.817791e-02    tapping  1.724117e-01  7.817791e-02\n",
       "..            ...           ...        ...           ...           ...\n",
       "102  1.479781e-08  4.142416e-08       fade  1.479781e-08  4.142416e-08\n",
       "216 -4.956547e-09  2.213498e-08     merely  4.956547e-09  2.213498e-08\n",
       "25  -3.810624e-09  3.347238e-10  blundered  3.810624e-09  3.347238e-10\n",
       "235  8.725419e-10  1.011686e-08      noble  8.725419e-10  1.011686e-08\n",
       "133  4.695346e-10 -6.673763e-09     fought  4.695346e-10  6.673763e-09\n",
       "\n",
       "[405 rows x 5 columns]"
      ]
     },
     "metadata": {},
     "output_type": "display_data"
    }
   ],
   "source": [
    "encoding_matrix['abs_topic_1'] = np.abs(encoding_matrix['topic_1'])\n",
    "encoding_matrix['abs_topic_2'] = np.abs(encoding_matrix['topic_2'])\n",
    "display(encoding_matrix.sort_values('abs_topic_1', ascending=False))"
   ]
  },
  {
   "cell_type": "code",
   "execution_count": 22,
   "metadata": {
    "application/vnd.databricks.v1+cell": {
     "cellMetadata": {},
     "inputWidgets": {},
     "nuid": "c3187392-b128-4bfe-87b7-f68f2166e72a",
     "showTitle": false,
     "title": ""
    },
    "execution": {
     "iopub.execute_input": "2023-06-13T02:56:22.070767Z",
     "iopub.status.busy": "2023-06-13T02:56:22.070767Z",
     "iopub.status.idle": "2023-06-13T02:56:22.098134Z",
     "shell.execute_reply": "2023-06-13T02:56:22.097138Z",
     "shell.execute_reply.started": "2023-06-13T02:56:22.070767Z"
    }
   },
   "outputs": [
    {
     "data": {
      "text/html": [
       "<div>\n",
       "<style scoped>\n",
       "    .dataframe tbody tr th:only-of-type {\n",
       "        vertical-align: middle;\n",
       "    }\n",
       "\n",
       "    .dataframe tbody tr th {\n",
       "        vertical-align: top;\n",
       "    }\n",
       "\n",
       "    .dataframe thead th {\n",
       "        text-align: right;\n",
       "    }\n",
       "</style>\n",
       "<table border=\"1\" class=\"dataframe\">\n",
       "  <thead>\n",
       "    <tr style=\"text-align: right;\">\n",
       "      <th></th>\n",
       "      <th>topic_1</th>\n",
       "      <th>topic_2</th>\n",
       "      <th>terms</th>\n",
       "      <th>abs_topic_1</th>\n",
       "      <th>abs_topic_2</th>\n",
       "    </tr>\n",
       "  </thead>\n",
       "  <tbody>\n",
       "    <tr>\n",
       "      <th>21</th>\n",
       "      <td>2.274548e-01</td>\n",
       "      <td>4.406553e-01</td>\n",
       "      <td>bird</td>\n",
       "      <td>2.274548e-01</td>\n",
       "      <td>4.406553e-01</td>\n",
       "    </tr>\n",
       "    <tr>\n",
       "      <th>258</th>\n",
       "      <td>6.615323e-02</td>\n",
       "      <td>4.105604e-01</td>\n",
       "      <td>prophet</td>\n",
       "      <td>6.615323e-02</td>\n",
       "      <td>4.105604e-01</td>\n",
       "    </tr>\n",
       "    <tr>\n",
       "      <th>284</th>\n",
       "      <td>5.707903e-02</td>\n",
       "      <td>3.697238e-01</td>\n",
       "      <td>said</td>\n",
       "      <td>5.707903e-02</td>\n",
       "      <td>3.697238e-01</td>\n",
       "    </tr>\n",
       "    <tr>\n",
       "      <th>232</th>\n",
       "      <td>2.389540e-02</td>\n",
       "      <td>2.864422e-01</td>\n",
       "      <td>nevermore</td>\n",
       "      <td>2.389540e-02</td>\n",
       "      <td>2.864422e-01</td>\n",
       "    </tr>\n",
       "    <tr>\n",
       "      <th>267</th>\n",
       "      <td>2.951246e-02</td>\n",
       "      <td>2.632707e-01</td>\n",
       "      <td>raven</td>\n",
       "      <td>2.951246e-02</td>\n",
       "      <td>2.632707e-01</td>\n",
       "    </tr>\n",
       "    <tr>\n",
       "      <th>...</th>\n",
       "      <td>...</td>\n",
       "      <td>...</td>\n",
       "      <td>...</td>\n",
       "      <td>...</td>\n",
       "      <td>...</td>\n",
       "    </tr>\n",
       "    <tr>\n",
       "      <th>102</th>\n",
       "      <td>1.479781e-08</td>\n",
       "      <td>4.142416e-08</td>\n",
       "      <td>fade</td>\n",
       "      <td>1.479781e-08</td>\n",
       "      <td>4.142416e-08</td>\n",
       "    </tr>\n",
       "    <tr>\n",
       "      <th>216</th>\n",
       "      <td>-4.956547e-09</td>\n",
       "      <td>2.213498e-08</td>\n",
       "      <td>merely</td>\n",
       "      <td>4.956547e-09</td>\n",
       "      <td>2.213498e-08</td>\n",
       "    </tr>\n",
       "    <tr>\n",
       "      <th>235</th>\n",
       "      <td>8.725419e-10</td>\n",
       "      <td>1.011686e-08</td>\n",
       "      <td>noble</td>\n",
       "      <td>8.725419e-10</td>\n",
       "      <td>1.011686e-08</td>\n",
       "    </tr>\n",
       "    <tr>\n",
       "      <th>133</th>\n",
       "      <td>4.695346e-10</td>\n",
       "      <td>-6.673763e-09</td>\n",
       "      <td>fought</td>\n",
       "      <td>4.695346e-10</td>\n",
       "      <td>6.673763e-09</td>\n",
       "    </tr>\n",
       "    <tr>\n",
       "      <th>25</th>\n",
       "      <td>-3.810624e-09</td>\n",
       "      <td>3.347238e-10</td>\n",
       "      <td>blundered</td>\n",
       "      <td>3.810624e-09</td>\n",
       "      <td>3.347238e-10</td>\n",
       "    </tr>\n",
       "  </tbody>\n",
       "</table>\n",
       "<p>405 rows × 5 columns</p>\n",
       "</div>"
      ],
      "text/plain": [
       "          topic_1       topic_2      terms   abs_topic_1   abs_topic_2\n",
       "21   2.274548e-01  4.406553e-01       bird  2.274548e-01  4.406553e-01\n",
       "258  6.615323e-02  4.105604e-01    prophet  6.615323e-02  4.105604e-01\n",
       "284  5.707903e-02  3.697238e-01       said  5.707903e-02  3.697238e-01\n",
       "232  2.389540e-02  2.864422e-01  nevermore  2.389540e-02  2.864422e-01\n",
       "267  2.951246e-02  2.632707e-01      raven  2.951246e-02  2.632707e-01\n",
       "..            ...           ...        ...           ...           ...\n",
       "102  1.479781e-08  4.142416e-08       fade  1.479781e-08  4.142416e-08\n",
       "216 -4.956547e-09  2.213498e-08     merely  4.956547e-09  2.213498e-08\n",
       "235  8.725419e-10  1.011686e-08      noble  8.725419e-10  1.011686e-08\n",
       "133  4.695346e-10 -6.673763e-09     fought  4.695346e-10  6.673763e-09\n",
       "25  -3.810624e-09  3.347238e-10  blundered  3.810624e-09  3.347238e-10\n",
       "\n",
       "[405 rows x 5 columns]"
      ]
     },
     "metadata": {},
     "output_type": "display_data"
    }
   ],
   "source": [
    "display(encoding_matrix.sort_values('abs_topic_2', ascending=False))"
   ]
  },
  {
   "cell_type": "markdown",
   "metadata": {
    "application/vnd.databricks.v1+cell": {
     "cellMetadata": {},
     "inputWidgets": {},
     "nuid": "c64d71e1-24d5-4713-97cc-c728114fb5a3",
     "showTitle": false,
     "title": ""
    }
   },
   "source": [
    "### Plot Topic Encoded Data"
   ]
  },
  {
   "cell_type": "code",
   "execution_count": 23,
   "metadata": {
    "application/vnd.databricks.v1+cell": {
     "cellMetadata": {},
     "inputWidgets": {},
     "nuid": "58ab7538-bc9b-418d-8a70-7530de8714a0",
     "showTitle": false,
     "title": ""
    },
    "execution": {
     "iopub.execute_input": "2023-06-13T02:56:25.188567Z",
     "iopub.status.busy": "2023-06-13T02:56:25.188567Z",
     "iopub.status.idle": "2023-06-13T02:56:25.982439Z",
     "shell.execute_reply": "2023-06-13T02:56:25.981401Z",
     "shell.execute_reply.started": "2023-06-13T02:56:25.188567Z"
    }
   },
   "outputs": [
    {
     "name": "stdout",
     "output_type": "stream",
     "text": [
      "False\n",
      "True\n"
     ]
    },
    {
     "data": {
      "image/png": "[encoded data removed]",
      "text/plain": [
       "<Figure size 640x480 with 1 Axes>"
      ]
     },
     "metadata": {},
     "output_type": "display_data"
    },
    {
     "data": {
      "image/png": "[encoded data removed]",
      "text/plain": [
       "<Figure size 640x480 with 1 Axes>"
      ]
     },
     "metadata": {},
     "output_type": "display_data"
    }
   ],
   "source": [
    "import matplotlib.pyplot as plt\n",
    "\n",
    "fig, ax = plt.subplots()\n",
    "\n",
    "for val in topic_encoded_df.Is_Poe.unique():\n",
    "  topic_1 = topic_encoded_df[topic_encoded_df.Is_Poe == val]['topic_1'].values\n",
    "  topic_2 = topic_encoded_df[topic_encoded_df.Is_Poe == val]['topic_2'].values\n",
    "  print(val)\n",
    "  color = \"red\" if val else \"green\"\n",
    "  label = \"The Raven\" if val else \"Charge of the Light Brigade\"\n",
    "  ax.scatter(topic_1, topic_2, c=color, alpha=0.5, label=label)\n",
    "# made the colors represent different books\n",
    "\n",
    "ax.set_xlabel('First Topic')\n",
    "ax.set_ylabel('Second Topic')\n",
    "ax.axvline(linewidth=0.5)\n",
    "ax.axhline(linewidth=0.5)\n",
    "ax.legend()\n",
    "\n",
    "display(fig)"
   ]
  },
  {
   "cell_type": "markdown",
   "metadata": {
    "application/vnd.databricks.v1+cell": {
     "cellMetadata": {},
     "inputWidgets": {},
     "nuid": "8df4407f-00da-4568-b07d-5b9cff0cc3aa",
     "showTitle": false,
     "title": ""
    }
   },
   "source": [
    "## Revising the LSA with a TF-IDF Document-Term Matrix"
   ]
  },
  {
   "cell_type": "markdown",
   "metadata": {
    "application/vnd.databricks.v1+cell": {
     "cellMetadata": {},
     "inputWidgets": {},
     "nuid": "379e6160-18a6-4f44-abbc-b68316c0a65b",
     "showTitle": false,
     "title": ""
    }
   },
   "source": [
    "**Latent Semantic Analysis (LSA)** is:\n",
    "\n",
    "- a natural language processing technique\n",
    "- an unsupervised learning technique\n",
    "- aims to create representations of the documents in a body based on the topics inherent to that body\n",
    "- reducing the dimensionality of a text-based dataset\n",
    "- consists of two steps:\n",
    "   - creating a document-term matrix\n",
    "   - dimensionality reduction via a singular value decomposition\n",
    "\n",
    "![](https://www.evernote.com/l/AAGiYGcKcIxIaJ7sCg97K9JDtUO2dY9mywoB/image.png)"
   ]
  },
  {
   "cell_type": "markdown",
   "metadata": {
    "application/vnd.databricks.v1+cell": {
     "cellMetadata": {},
     "inputWidgets": {},
     "nuid": "c7fc6f8c-bef9-4281-bfc1-895ae7c21bfc",
     "showTitle": false,
     "title": ""
    }
   },
   "source": [
    "### The SVD is deterministic\n",
    "\n",
    "Finding the vectors generated by an SVD is analogous to finding the eigenvectors of the covariance matrix of the data. Without going to deeply into the meaning of this suffice it to say that these vectors are deterministic and will not change with subsequent fiitting of the model. \n",
    "\n",
    "In other words, as data scientists we have very little control of the output of an SVD. We can choose a number of output vectors, but the number of vectors returned has no bearing on the output. We can not tune the model in the conventional sense by, that is, by adjusting hyperparameters. The only hyperparameter to be tuned has no impact on any one individual vector returned."
   ]
  },
  {
   "cell_type": "markdown",
   "metadata": {
    "application/vnd.databricks.v1+cell": {
     "cellMetadata": {},
     "inputWidgets": {},
     "nuid": "67a3726c-0deb-4834-b85e-ada841925993",
     "showTitle": false,
     "title": ""
    }
   },
   "source": [
    "### Tuning a Latent Semantic Analysis\n",
    "\n",
    "The word \"eigen\" is German for \"own\" or \"inherent\". Each eigenvector returned is in some way \"of\" or \"inherent to\" the underlying Document-Term Matrix. The LSA is based upon these eigenvectors, but the SVD being deterministic, there is no way to directly alter them.\n",
    "\n",
    "What can be done is to alter the Document-Term Matrix itself. One popular method for doing this is to use the term frequency-inverse document frequency algorithm in the preparation of the Document-Term Matrix rather than a simple count."
   ]
  },
  {
   "cell_type": "markdown",
   "metadata": {
    "application/vnd.databricks.v1+cell": {
     "cellMetadata": {},
     "inputWidgets": {},
     "nuid": "fcfdac52-6c89-4882-966f-62af52123824",
     "showTitle": false,
     "title": ""
    }
   },
   "source": [
    "#### Term Frequency-Inverse Document Frequency\n",
    "\n",
    "A simple count collects term frequency, the number of times a term appears in a document. A TFIDF weighs this term frequency by the inverse of the document frequency, that is, the number of documents in which the term appears.\n",
    "\n",
    "Without going into the details of how a [TFIDF](https://spark.apache.org/docs/latest/mllib-feature-extraction.html) is calculated we can note conceptually that will help to reflect the importance of a term to a document in the body. If we only use term frequency to measure the importance, it is very easy to over-emphasize terms that appear very often but carry little information about the document, e.g. “a”, “the”, and “of”. If a term appears very often across the body, it means it doesn’t carry special information about a particular document. Inverse document frequency is a numerical measure of how much information a term provides.\n",
    "\n",
    "Here, we will look at using TFIDF to generate the Document-Term Matrix and how it effects the LSA."
   ]
  },
  {
   "cell_type": "markdown",
   "metadata": {
    "application/vnd.databricks.v1+cell": {
     "cellMetadata": {},
     "inputWidgets": {},
     "nuid": "a1b0f262-8e4f-4af9-954e-31faa82d7670",
     "showTitle": false,
     "title": ""
    }
   },
   "source": [
    "### Raw Text Data\n",
    "\n",
    "<img src=\"https://www.evernote.com/l/AAFfAyDQQ1xGPLTIxT2hcUSLrHuQDbYzsuYB/image.png\" width=600px>\n",
    "\n",
    "Here each line of text from a book is a **document** and the collection of all lines of text from the two books is the **body**."
   ]
  },
  {
   "cell_type": "markdown",
   "metadata": {
    "application/vnd.databricks.v1+cell": {
     "cellMetadata": {},
     "inputWidgets": {},
     "nuid": "34d914da-a505-46bd-997c-a0827e52bcc6",
     "showTitle": false,
     "title": ""
    }
   },
   "source": [
    "### Document-Term Matrix\n",
    "\n",
    "<img src=\"https://www.evernote.com/l/AAFtjaKOjT5CYr5N_NPHKU6vpBWNnBgbWLIB/image.png\" width=600px>\n",
    "\n",
    "Again, we use `CountVectorizer`, now with a few more arguments:\n",
    "\n",
    "- `min_df` signifies the number of documents in which a term must appear in order for it to be counted\n",
    "- You can view the `english` `stop_words` here: https://github.com/scikit-learn/scikit-learn/blob/master/sklearn/feature_extraction/stop_words.py\n",
    "\n",
    "Note that `CountVectorizer` returns a [sparse](https://en.wikipedia.org/wiki/Sparse_matrix) matrix [[doc](http://scikit-learn.org/stable/modules/generated/sklearn.feature_extraction.text.CountVectorizer.html#sklearn.feature_extraction.text.CountVectorizer.transform)]."
   ]
  },
  {
   "cell_type": "code",
   "execution_count": 24,
   "metadata": {
    "application/vnd.databricks.v1+cell": {
     "cellMetadata": {},
     "inputWidgets": {},
     "nuid": "a8db0546-0be7-4c91-9a18-676a93fbab3b",
     "showTitle": false,
     "title": ""
    },
    "execution": {
     "iopub.execute_input": "2023-06-13T02:56:32.839206Z",
     "iopub.status.busy": "2023-06-13T02:56:32.839206Z",
     "iopub.status.idle": "2023-06-13T02:56:32.859933Z",
     "shell.execute_reply": "2023-06-13T02:56:32.859933Z",
     "shell.execute_reply.started": "2023-06-13T02:56:32.839206Z"
    }
   },
   "outputs": [],
   "source": [
    "from sklearn.feature_extraction.text import TfidfVectorizer\n",
    "\n",
    "vectorizer = TfidfVectorizer(min_df=1, stop_words='english')\n",
    "bag_of_words = vectorizer.fit_transform(body_df.sentence)"
   ]
  },
  {
   "cell_type": "markdown",
   "metadata": {
    "application/vnd.databricks.v1+cell": {
     "cellMetadata": {},
     "inputWidgets": {},
     "nuid": "6eab5ec7-5e35-4ade-adec-5a56f1a87b75",
     "showTitle": false,
     "title": ""
    }
   },
   "source": [
    "### Singular Value Decomposition\n",
    "\n",
    "<img src=\"https://www.evernote.com/l/AAEhTiOBufhPwKBx-Hgufx4XZ5XyfsCp8cMB/image.png\" width=600px>"
   ]
  },
  {
   "cell_type": "code",
   "execution_count": 25,
   "metadata": {
    "application/vnd.databricks.v1+cell": {
     "cellMetadata": {},
     "inputWidgets": {},
     "nuid": "14c34c99-dd0b-470d-ba66-31c3abcf9313",
     "showTitle": false,
     "title": ""
    },
    "execution": {
     "iopub.execute_input": "2023-06-13T02:56:33.688911Z",
     "iopub.status.busy": "2023-06-13T02:56:33.687915Z",
     "iopub.status.idle": "2023-06-13T02:56:33.699906Z",
     "shell.execute_reply": "2023-06-13T02:56:33.699906Z",
     "shell.execute_reply.started": "2023-06-13T02:56:33.688911Z"
    }
   },
   "outputs": [],
   "source": [
    "svd = TruncatedSVD(n_components=2)\n",
    "lsa = svd.fit_transform(bag_of_words)"
   ]
  },
  {
   "cell_type": "markdown",
   "metadata": {
    "application/vnd.databricks.v1+cell": {
     "cellMetadata": {},
     "inputWidgets": {},
     "nuid": "56c3114c-fd43-4601-a3f8-6e7187110e63",
     "showTitle": false,
     "title": ""
    }
   },
   "source": [
    "### Topic Encoded Data\n",
    "\n",
    "<img src=\"https://www.evernote.com/l/AAGhSgfs1nZHAIYfbnmNaHU8YjMV2i9fTmgB/image.png\" width=600px>"
   ]
  },
  {
   "cell_type": "code",
   "execution_count": 26,
   "metadata": {
    "application/vnd.databricks.v1+cell": {
     "cellMetadata": {},
     "inputWidgets": {},
     "nuid": "3b3bccb5-5f13-4cb6-9747-d6103dbc6e6e",
     "showTitle": false,
     "title": ""
    },
    "execution": {
     "iopub.execute_input": "2023-06-13T02:56:34.350642Z",
     "iopub.status.busy": "2023-06-13T02:56:34.350642Z",
     "iopub.status.idle": "2023-06-13T02:56:34.366981Z",
     "shell.execute_reply": "2023-06-13T02:56:34.366981Z",
     "shell.execute_reply.started": "2023-06-13T02:56:34.350642Z"
    }
   },
   "outputs": [
    {
     "data": {
      "text/html": [
       "<div>\n",
       "<style scoped>\n",
       "    .dataframe tbody tr th:only-of-type {\n",
       "        vertical-align: middle;\n",
       "    }\n",
       "\n",
       "    .dataframe tbody tr th {\n",
       "        vertical-align: top;\n",
       "    }\n",
       "\n",
       "    .dataframe thead th {\n",
       "        text-align: right;\n",
       "    }\n",
       "</style>\n",
       "<table border=\"1\" class=\"dataframe\">\n",
       "  <thead>\n",
       "    <tr style=\"text-align: right;\">\n",
       "      <th></th>\n",
       "      <th>topic_1</th>\n",
       "      <th>topic_2</th>\n",
       "      <th>sentence</th>\n",
       "      <th>Is_Poe</th>\n",
       "    </tr>\n",
       "  </thead>\n",
       "  <tbody>\n",
       "    <tr>\n",
       "      <th>62</th>\n",
       "      <td>0.000088</td>\n",
       "      <td>0.000026</td>\n",
       "      <td>And each separate dying ember wrought its ghos...</td>\n",
       "      <td>True</td>\n",
       "    </tr>\n",
       "    <tr>\n",
       "      <th>151</th>\n",
       "      <td>0.018246</td>\n",
       "      <td>-0.001498</td>\n",
       "      <td>“Be that word our sign of parting, bird or fie...</td>\n",
       "      <td>True</td>\n",
       "    </tr>\n",
       "    <tr>\n",
       "      <th>102</th>\n",
       "      <td>0.949179</td>\n",
       "      <td>0.000286</td>\n",
       "      <td>Quoth the Raven “Nevermore.”</td>\n",
       "      <td>True</td>\n",
       "    </tr>\n",
       "    <tr>\n",
       "      <th>132</th>\n",
       "      <td>0.349868</td>\n",
       "      <td>0.000303</td>\n",
       "      <td>She shall press, ah, nevermore!</td>\n",
       "      <td>True</td>\n",
       "    </tr>\n",
       "    <tr>\n",
       "      <th>134</th>\n",
       "      <td>0.000097</td>\n",
       "      <td>0.000012</td>\n",
       "      <td>Swung by Seraphim whose foot-falls tinkled on ...</td>\n",
       "      <td>True</td>\n",
       "    </tr>\n",
       "  </tbody>\n",
       "</table>\n",
       "</div>"
      ],
      "text/plain": [
       "      topic_1   topic_2                                           sentence  \\\n",
       "62   0.000088  0.000026  And each separate dying ember wrought its ghos...   \n",
       "151  0.018246 -0.001498  “Be that word our sign of parting, bird or fie...   \n",
       "102  0.949179  0.000286                       Quoth the Raven “Nevermore.”   \n",
       "132  0.349868  0.000303                    She shall press, ah, nevermore!   \n",
       "134  0.000097  0.000012  Swung by Seraphim whose foot-falls tinkled on ...   \n",
       "\n",
       "     Is_Poe  \n",
       "62     True  \n",
       "151    True  \n",
       "102    True  \n",
       "132    True  \n",
       "134    True  "
      ]
     },
     "metadata": {},
     "output_type": "display_data"
    }
   ],
   "source": [
    "topic_encoded_tfidf_df = pd.DataFrame(lsa, columns = [\"topic_1\", \"topic_2\"])\n",
    "topic_encoded_tfidf_df['sentence'] = body_df.sentence\n",
    "topic_encoded_tfidf_df['Is_Poe'] = (body_df.title == \"The Raven\")\n",
    "display(topic_encoded_tfidf_df.iloc[sample_indices])"
   ]
  },
  {
   "cell_type": "markdown",
   "metadata": {
    "application/vnd.databricks.v1+cell": {
     "cellMetadata": {},
     "inputWidgets": {},
     "nuid": "671dc5d7-297b-4981-a20d-92313b262847",
     "showTitle": false,
     "title": ""
    }
   },
   "source": [
    "#### The Dictionary"
   ]
  },
  {
   "cell_type": "code",
   "execution_count": 28,
   "metadata": {
    "application/vnd.databricks.v1+cell": {
     "cellMetadata": {},
     "inputWidgets": {},
     "nuid": "d44ec93a-7d38-462f-927a-8fc328fc9c35",
     "showTitle": false,
     "title": ""
    },
    "execution": {
     "iopub.execute_input": "2023-06-13T02:56:39.104998Z",
     "iopub.status.busy": "2023-06-13T02:56:39.103999Z",
     "iopub.status.idle": "2023-06-13T02:56:39.121002Z",
     "shell.execute_reply": "2023-06-13T02:56:39.119996Z",
     "shell.execute_reply.started": "2023-06-13T02:56:39.104998Z"
    },
    "tags": []
   },
   "outputs": [
    {
     "data": {
      "text/plain": [
       "array(['adore', 'agreeing', 'ah', 'aidenn', 'air', 'ancient', 'angels',\n",
       "       'answer', 'aptly', 'army'], dtype=object)"
      ]
     },
     "execution_count": 28,
     "metadata": {},
     "output_type": "execute_result"
    }
   ],
   "source": [
    "dictionary = vectorizer.get_feature_names_out()\n",
    "dictionary[:10]"
   ]
  },
  {
   "cell_type": "markdown",
   "metadata": {
    "application/vnd.databricks.v1+cell": {
     "cellMetadata": {},
     "inputWidgets": {},
     "nuid": "6d134f3f-b177-480b-82c6-d0f1bd3ce18b",
     "showTitle": false,
     "title": ""
    }
   },
   "source": [
    "#### The Encoding Matrix"
   ]
  },
  {
   "cell_type": "code",
   "execution_count": 29,
   "metadata": {
    "application/vnd.databricks.v1+cell": {
     "cellMetadata": {},
     "inputWidgets": {},
     "nuid": "ff0d6208-9d79-49fa-bc4d-3714c08a6fa1",
     "showTitle": false,
     "title": ""
    },
    "execution": {
     "iopub.execute_input": "2023-06-13T02:56:40.401883Z",
     "iopub.status.busy": "2023-06-13T02:56:40.401883Z",
     "iopub.status.idle": "2023-06-13T02:56:40.423885Z",
     "shell.execute_reply": "2023-06-13T02:56:40.423885Z",
     "shell.execute_reply.started": "2023-06-13T02:56:40.401883Z"
    }
   },
   "outputs": [
    {
     "data": {
      "text/html": [
       "<div>\n",
       "<style scoped>\n",
       "    .dataframe tbody tr th:only-of-type {\n",
       "        vertical-align: middle;\n",
       "    }\n",
       "\n",
       "    .dataframe tbody tr th {\n",
       "        vertical-align: top;\n",
       "    }\n",
       "\n",
       "    .dataframe thead th {\n",
       "        text-align: right;\n",
       "    }\n",
       "</style>\n",
       "<table border=\"1\" class=\"dataframe\">\n",
       "  <thead>\n",
       "    <tr style=\"text-align: right;\">\n",
       "      <th></th>\n",
       "      <th>topic_1</th>\n",
       "      <th>topic_2</th>\n",
       "      <th>terms</th>\n",
       "    </tr>\n",
       "  </thead>\n",
       "  <tbody>\n",
       "    <tr>\n",
       "      <th>0</th>\n",
       "      <td>-0.000024</td>\n",
       "      <td>0.000018</td>\n",
       "      <td>adore</td>\n",
       "    </tr>\n",
       "    <tr>\n",
       "      <th>1</th>\n",
       "      <td>0.000012</td>\n",
       "      <td>-0.000038</td>\n",
       "      <td>agreeing</td>\n",
       "    </tr>\n",
       "    <tr>\n",
       "      <th>2</th>\n",
       "      <td>0.029639</td>\n",
       "      <td>0.000132</td>\n",
       "      <td>ah</td>\n",
       "    </tr>\n",
       "    <tr>\n",
       "      <th>3</th>\n",
       "      <td>0.000047</td>\n",
       "      <td>-0.000049</td>\n",
       "      <td>aidenn</td>\n",
       "    </tr>\n",
       "    <tr>\n",
       "      <th>4</th>\n",
       "      <td>-0.000041</td>\n",
       "      <td>0.000170</td>\n",
       "      <td>air</td>\n",
       "    </tr>\n",
       "    <tr>\n",
       "      <th>...</th>\n",
       "      <td>...</td>\n",
       "      <td>...</td>\n",
       "      <td>...</td>\n",
       "    </tr>\n",
       "    <tr>\n",
       "      <th>400</th>\n",
       "      <td>0.000009</td>\n",
       "      <td>0.000008</td>\n",
       "      <td>wore</td>\n",
       "    </tr>\n",
       "    <tr>\n",
       "      <th>401</th>\n",
       "      <td>-0.000302</td>\n",
       "      <td>-0.001677</td>\n",
       "      <td>world</td>\n",
       "    </tr>\n",
       "    <tr>\n",
       "      <th>402</th>\n",
       "      <td>-0.000022</td>\n",
       "      <td>0.000124</td>\n",
       "      <td>wretch</td>\n",
       "    </tr>\n",
       "    <tr>\n",
       "      <th>403</th>\n",
       "      <td>0.000022</td>\n",
       "      <td>0.000017</td>\n",
       "      <td>wrought</td>\n",
       "    </tr>\n",
       "    <tr>\n",
       "      <th>404</th>\n",
       "      <td>0.013167</td>\n",
       "      <td>-0.000208</td>\n",
       "      <td>yore</td>\n",
       "    </tr>\n",
       "  </tbody>\n",
       "</table>\n",
       "<p>405 rows × 3 columns</p>\n",
       "</div>"
      ],
      "text/plain": [
       "      topic_1   topic_2     terms\n",
       "0   -0.000024  0.000018     adore\n",
       "1    0.000012 -0.000038  agreeing\n",
       "2    0.029639  0.000132        ah\n",
       "3    0.000047 -0.000049    aidenn\n",
       "4   -0.000041  0.000170       air\n",
       "..        ...       ...       ...\n",
       "400  0.000009  0.000008      wore\n",
       "401 -0.000302 -0.001677     world\n",
       "402 -0.000022  0.000124    wretch\n",
       "403  0.000022  0.000017   wrought\n",
       "404  0.013167 -0.000208      yore\n",
       "\n",
       "[405 rows x 3 columns]"
      ]
     },
     "metadata": {},
     "output_type": "display_data"
    }
   ],
   "source": [
    "encoding_matrix = pd.DataFrame(svd.components_,\n",
    "                               index=['topic_1', 'topic_2']).T\n",
    "encoding_matrix[\"terms\"] = dictionary\n",
    "display(encoding_matrix)"
   ]
  },
  {
   "cell_type": "markdown",
   "metadata": {
    "application/vnd.databricks.v1+cell": {
     "cellMetadata": {},
     "inputWidgets": {},
     "nuid": "a34915b7-f532-4b21-92c6-5b5131014bec",
     "showTitle": false,
     "title": ""
    }
   },
   "source": [
    "#### Interpret The Encoding Matrix\n",
    "\n",
    "What are the top \"concepts\"? What dimensions in term-space explain most of the variance in the data?"
   ]
  },
  {
   "cell_type": "code",
   "execution_count": 30,
   "metadata": {
    "application/vnd.databricks.v1+cell": {
     "cellMetadata": {},
     "inputWidgets": {},
     "nuid": "e8d9e234-e4b5-4638-a435-abb70731e963",
     "showTitle": false,
     "title": ""
    },
    "execution": {
     "iopub.execute_input": "2023-06-13T02:56:41.428636Z",
     "iopub.status.busy": "2023-06-13T02:56:41.428636Z",
     "iopub.status.idle": "2023-06-13T02:56:41.446633Z",
     "shell.execute_reply": "2023-06-13T02:56:41.446633Z",
     "shell.execute_reply.started": "2023-06-13T02:56:41.428636Z"
    }
   },
   "outputs": [
    {
     "data": {
      "text/html": [
       "<div>\n",
       "<style scoped>\n",
       "    .dataframe tbody tr th:only-of-type {\n",
       "        vertical-align: middle;\n",
       "    }\n",
       "\n",
       "    .dataframe tbody tr th {\n",
       "        vertical-align: top;\n",
       "    }\n",
       "\n",
       "    .dataframe thead th {\n",
       "        text-align: right;\n",
       "    }\n",
       "</style>\n",
       "<table border=\"1\" class=\"dataframe\">\n",
       "  <thead>\n",
       "    <tr style=\"text-align: right;\">\n",
       "      <th></th>\n",
       "      <th>topic_1</th>\n",
       "      <th>topic_2</th>\n",
       "      <th>terms</th>\n",
       "      <th>abs_topic_1</th>\n",
       "      <th>abs_topic_2</th>\n",
       "    </tr>\n",
       "  </thead>\n",
       "  <tbody>\n",
       "    <tr>\n",
       "      <th>232</th>\n",
       "      <td>7.425492e-01</td>\n",
       "      <td>-0.000178</td>\n",
       "      <td>nevermore</td>\n",
       "      <td>7.425492e-01</td>\n",
       "      <td>0.000178</td>\n",
       "    </tr>\n",
       "    <tr>\n",
       "      <th>263</th>\n",
       "      <td>4.731257e-01</td>\n",
       "      <td>0.000293</td>\n",
       "      <td>quoth</td>\n",
       "      <td>4.731257e-01</td>\n",
       "      <td>0.000293</td>\n",
       "    </tr>\n",
       "    <tr>\n",
       "      <th>267</th>\n",
       "      <td>4.506219e-01</td>\n",
       "      <td>0.000353</td>\n",
       "      <td>raven</td>\n",
       "      <td>4.506219e-01</td>\n",
       "      <td>0.000353</td>\n",
       "    </tr>\n",
       "    <tr>\n",
       "      <th>297</th>\n",
       "      <td>6.576916e-02</td>\n",
       "      <td>0.000483</td>\n",
       "      <td>shall</td>\n",
       "      <td>6.576916e-02</td>\n",
       "      <td>0.000483</td>\n",
       "    </tr>\n",
       "    <tr>\n",
       "      <th>21</th>\n",
       "      <td>5.632996e-02</td>\n",
       "      <td>-0.001624</td>\n",
       "      <td>bird</td>\n",
       "      <td>5.632996e-02</td>\n",
       "      <td>0.001624</td>\n",
       "    </tr>\n",
       "    <tr>\n",
       "      <th>...</th>\n",
       "      <td>...</td>\n",
       "      <td>...</td>\n",
       "      <td>...</td>\n",
       "      <td>...</td>\n",
       "      <td>...</td>\n",
       "    </tr>\n",
       "    <tr>\n",
       "      <th>111</th>\n",
       "      <td>-4.621270e-07</td>\n",
       "      <td>0.000015</td>\n",
       "      <td>feather</td>\n",
       "      <td>4.621270e-07</td>\n",
       "      <td>0.000015</td>\n",
       "    </tr>\n",
       "    <tr>\n",
       "      <th>92</th>\n",
       "      <td>2.085235e-07</td>\n",
       "      <td>0.000060</td>\n",
       "      <td>engaged</td>\n",
       "      <td>2.085235e-07</td>\n",
       "      <td>0.000060</td>\n",
       "    </tr>\n",
       "    <tr>\n",
       "      <th>149</th>\n",
       "      <td>2.085235e-07</td>\n",
       "      <td>0.000060</td>\n",
       "      <td>guessing</td>\n",
       "      <td>2.085235e-07</td>\n",
       "      <td>0.000060</td>\n",
       "    </tr>\n",
       "    <tr>\n",
       "      <th>99</th>\n",
       "      <td>2.085235e-07</td>\n",
       "      <td>0.000060</td>\n",
       "      <td>expressing</td>\n",
       "      <td>2.085235e-07</td>\n",
       "      <td>0.000060</td>\n",
       "    </tr>\n",
       "    <tr>\n",
       "      <th>344</th>\n",
       "      <td>2.085235e-07</td>\n",
       "      <td>0.000060</td>\n",
       "      <td>syllable</td>\n",
       "      <td>2.085235e-07</td>\n",
       "      <td>0.000060</td>\n",
       "    </tr>\n",
       "  </tbody>\n",
       "</table>\n",
       "<p>405 rows × 5 columns</p>\n",
       "</div>"
      ],
      "text/plain": [
       "          topic_1   topic_2       terms   abs_topic_1  abs_topic_2\n",
       "232  7.425492e-01 -0.000178   nevermore  7.425492e-01     0.000178\n",
       "263  4.731257e-01  0.000293       quoth  4.731257e-01     0.000293\n",
       "267  4.506219e-01  0.000353       raven  4.506219e-01     0.000353\n",
       "297  6.576916e-02  0.000483       shall  6.576916e-02     0.000483\n",
       "21   5.632996e-02 -0.001624        bird  5.632996e-02     0.001624\n",
       "..            ...       ...         ...           ...          ...\n",
       "111 -4.621270e-07  0.000015     feather  4.621270e-07     0.000015\n",
       "92   2.085235e-07  0.000060     engaged  2.085235e-07     0.000060\n",
       "149  2.085235e-07  0.000060    guessing  2.085235e-07     0.000060\n",
       "99   2.085235e-07  0.000060  expressing  2.085235e-07     0.000060\n",
       "344  2.085235e-07  0.000060    syllable  2.085235e-07     0.000060\n",
       "\n",
       "[405 rows x 5 columns]"
      ]
     },
     "metadata": {},
     "output_type": "display_data"
    }
   ],
   "source": [
    "encoding_matrix['abs_topic_1'] = np.abs(encoding_matrix['topic_1'])\n",
    "encoding_matrix['abs_topic_2'] = np.abs(encoding_matrix['topic_2'])\n",
    "display(encoding_matrix.sort_values('abs_topic_1', ascending=False))"
   ]
  },
  {
   "cell_type": "code",
   "execution_count": 31,
   "metadata": {
    "application/vnd.databricks.v1+cell": {
     "cellMetadata": {},
     "inputWidgets": {},
     "nuid": "57e0f6c2-14ce-48ca-ae96-5bc5e6a59ea9",
     "showTitle": false,
     "title": ""
    },
    "execution": {
     "iopub.execute_input": "2023-06-13T02:56:41.877556Z",
     "iopub.status.busy": "2023-06-13T02:56:41.876550Z",
     "iopub.status.idle": "2023-06-13T02:56:41.895715Z",
     "shell.execute_reply": "2023-06-13T02:56:41.895715Z",
     "shell.execute_reply.started": "2023-06-13T02:56:41.877556Z"
    }
   },
   "outputs": [
    {
     "data": {
      "text/html": [
       "<div>\n",
       "<style scoped>\n",
       "    .dataframe tbody tr th:only-of-type {\n",
       "        vertical-align: middle;\n",
       "    }\n",
       "\n",
       "    .dataframe tbody tr th {\n",
       "        vertical-align: top;\n",
       "    }\n",
       "\n",
       "    .dataframe thead th {\n",
       "        text-align: right;\n",
       "    }\n",
       "</style>\n",
       "<table border=\"1\" class=\"dataframe\">\n",
       "  <thead>\n",
       "    <tr style=\"text-align: right;\">\n",
       "      <th></th>\n",
       "      <th>topic_1</th>\n",
       "      <th>topic_2</th>\n",
       "      <th>terms</th>\n",
       "      <th>abs_topic_1</th>\n",
       "      <th>abs_topic_2</th>\n",
       "    </tr>\n",
       "  </thead>\n",
       "  <tbody>\n",
       "    <tr>\n",
       "      <th>277</th>\n",
       "      <td>-0.000021</td>\n",
       "      <td>9.949342e-01</td>\n",
       "      <td>rode</td>\n",
       "      <td>0.000021</td>\n",
       "      <td>9.949342e-01</td>\n",
       "    </tr>\n",
       "    <tr>\n",
       "      <th>26</th>\n",
       "      <td>-0.000002</td>\n",
       "      <td>1.003247e-01</td>\n",
       "      <td>boldly</td>\n",
       "      <td>0.000002</td>\n",
       "      <td>1.003247e-01</td>\n",
       "    </tr>\n",
       "    <tr>\n",
       "      <th>184</th>\n",
       "      <td>0.000426</td>\n",
       "      <td>2.362650e-03</td>\n",
       "      <td>left</td>\n",
       "      <td>0.000426</td>\n",
       "      <td>2.362650e-03</td>\n",
       "    </tr>\n",
       "    <tr>\n",
       "      <th>351</th>\n",
       "      <td>-0.000291</td>\n",
       "      <td>1.721377e-03</td>\n",
       "      <td>theirs</td>\n",
       "      <td>0.000291</td>\n",
       "      <td>1.721377e-03</td>\n",
       "    </tr>\n",
       "    <tr>\n",
       "      <th>397</th>\n",
       "      <td>-0.000302</td>\n",
       "      <td>-1.677238e-03</td>\n",
       "      <td>wondered</td>\n",
       "      <td>0.000302</td>\n",
       "      <td>1.677238e-03</td>\n",
       "    </tr>\n",
       "    <tr>\n",
       "      <th>...</th>\n",
       "      <td>...</td>\n",
       "      <td>...</td>\n",
       "      <td>...</td>\n",
       "      <td>...</td>\n",
       "      <td>...</td>\n",
       "    </tr>\n",
       "    <tr>\n",
       "      <th>130</th>\n",
       "      <td>0.000027</td>\n",
       "      <td>1.779850e-06</td>\n",
       "      <td>forgotten</td>\n",
       "      <td>0.000027</td>\n",
       "      <td>1.779850e-06</td>\n",
       "    </tr>\n",
       "    <tr>\n",
       "      <th>337</th>\n",
       "      <td>-0.000006</td>\n",
       "      <td>8.041496e-07</td>\n",
       "      <td>stronger</td>\n",
       "      <td>0.000006</td>\n",
       "      <td>8.041496e-07</td>\n",
       "    </tr>\n",
       "    <tr>\n",
       "      <th>256</th>\n",
       "      <td>-0.000006</td>\n",
       "      <td>8.041496e-07</td>\n",
       "      <td>presently</td>\n",
       "      <td>0.000006</td>\n",
       "      <td>8.041496e-07</td>\n",
       "    </tr>\n",
       "    <tr>\n",
       "      <th>200</th>\n",
       "      <td>-0.000006</td>\n",
       "      <td>8.041496e-07</td>\n",
       "      <td>longer</td>\n",
       "      <td>0.000006</td>\n",
       "      <td>8.041496e-07</td>\n",
       "    </tr>\n",
       "    <tr>\n",
       "      <th>163</th>\n",
       "      <td>-0.000006</td>\n",
       "      <td>8.041496e-07</td>\n",
       "      <td>hesitating</td>\n",
       "      <td>0.000006</td>\n",
       "      <td>8.041496e-07</td>\n",
       "    </tr>\n",
       "  </tbody>\n",
       "</table>\n",
       "<p>405 rows × 5 columns</p>\n",
       "</div>"
      ],
      "text/plain": [
       "      topic_1       topic_2       terms  abs_topic_1   abs_topic_2\n",
       "277 -0.000021  9.949342e-01        rode     0.000021  9.949342e-01\n",
       "26  -0.000002  1.003247e-01      boldly     0.000002  1.003247e-01\n",
       "184  0.000426  2.362650e-03        left     0.000426  2.362650e-03\n",
       "351 -0.000291  1.721377e-03      theirs     0.000291  1.721377e-03\n",
       "397 -0.000302 -1.677238e-03    wondered     0.000302  1.677238e-03\n",
       "..        ...           ...         ...          ...           ...\n",
       "130  0.000027  1.779850e-06   forgotten     0.000027  1.779850e-06\n",
       "337 -0.000006  8.041496e-07    stronger     0.000006  8.041496e-07\n",
       "256 -0.000006  8.041496e-07   presently     0.000006  8.041496e-07\n",
       "200 -0.000006  8.041496e-07      longer     0.000006  8.041496e-07\n",
       "163 -0.000006  8.041496e-07  hesitating     0.000006  8.041496e-07\n",
       "\n",
       "[405 rows x 5 columns]"
      ]
     },
     "metadata": {},
     "output_type": "display_data"
    }
   ],
   "source": [
    "display(encoding_matrix.sort_values('abs_topic_2', ascending=False))"
   ]
  },
  {
   "cell_type": "markdown",
   "metadata": {
    "application/vnd.databricks.v1+cell": {
     "cellMetadata": {},
     "inputWidgets": {},
     "nuid": "90256896-0737-47da-8dab-4cd71c6f7e29",
     "showTitle": false,
     "title": ""
    }
   },
   "source": [
    "### Plot Top Two Components"
   ]
  },
  {
   "cell_type": "code",
   "execution_count": 32,
   "metadata": {
    "application/vnd.databricks.v1+cell": {
     "cellMetadata": {},
     "inputWidgets": {},
     "nuid": "6dd81060-9aaa-4993-92f3-62cb6761ad50",
     "showTitle": false,
     "title": ""
    },
    "execution": {
     "iopub.execute_input": "2023-06-13T02:56:43.401258Z",
     "iopub.status.busy": "2023-06-13T02:56:43.401258Z",
     "iopub.status.idle": "2023-06-13T02:56:43.722439Z",
     "shell.execute_reply": "2023-06-13T02:56:43.721933Z",
     "shell.execute_reply.started": "2023-06-13T02:56:43.401258Z"
    }
   },
   "outputs": [
    {
     "name": "stdout",
     "output_type": "stream",
     "text": [
      "False\n",
      "True\n"
     ]
    },
    {
     "data": {
      "image/png": "[encoded data removed]",
      "text/plain": [
       "<Figure size 640x480 with 1 Axes>"
      ]
     },
     "metadata": {},
     "output_type": "display_data"
    },
    {
     "data": {
      "image/png": "[encoded data removed]",
      "text/plain": [
       "<Figure size 640x480 with 1 Axes>"
      ]
     },
     "metadata": {},
     "output_type": "display_data"
    }
   ],
   "source": [
    "fig, ax = plt.subplots()\n",
    "\n",
    "for val in topic_encoded_df.Is_Poe.unique():\n",
    "  topic_1 = topic_encoded_df[topic_encoded_df.Is_Poe == val]['topic_1'].values\n",
    "  topic_2 = topic_encoded_df[topic_encoded_df.Is_Poe == val]['topic_2'].values\n",
    "  print(val)\n",
    "  color = \"red\" if val else \"green\"\n",
    "  label = \"The Raven\" if val else \"Charge of the Light Brigade\"\n",
    "  ax.scatter(topic_1, topic_2, c=color, alpha=0.3, label=label)\n",
    "# made the colors represent different books\n",
    "\n",
    "ax.set_xlabel('First Topic')\n",
    "ax.set_ylabel('Second Topic')\n",
    "ax.axvline(linewidth=0.5)\n",
    "ax.axhline(linewidth=0.5)\n",
    "ax.legend()\n",
    "\n",
    "display(fig)"
   ]
  },
  {
   "cell_type": "code",
   "execution_count": 33,
   "metadata": {
    "application/vnd.databricks.v1+cell": {
     "cellMetadata": {},
     "inputWidgets": {},
     "nuid": "a72b291c-1676-41b9-b176-f522f2ad10ca",
     "showTitle": false,
     "title": ""
    },
    "execution": {
     "iopub.execute_input": "2023-06-13T02:56:46.964659Z",
     "iopub.status.busy": "2023-06-13T02:56:46.963654Z",
     "iopub.status.idle": "2023-06-13T02:56:47.357926Z",
     "shell.execute_reply": "2023-06-13T02:56:47.357926Z",
     "shell.execute_reply.started": "2023-06-13T02:56:46.964659Z"
    }
   },
   "outputs": [
    {
     "name": "stdout",
     "output_type": "stream",
     "text": [
      "False\n",
      "True\n"
     ]
    },
    {
     "data": {
      "image/png": "[encoded data removed]",
      "text/plain": [
       "<Figure size 640x480 with 1 Axes>"
      ]
     },
     "metadata": {},
     "output_type": "display_data"
    },
    {
     "data": {
      "image/png": "[encoded data removed]",
      "text/plain": [
       "<Figure size 640x480 with 1 Axes>"
      ]
     },
     "metadata": {},
     "output_type": "display_data"
    }
   ],
   "source": [
    "fig, ax = plt.subplots()\n",
    "\n",
    "for val in topic_encoded_tfidf_df.Is_Poe.unique():\n",
    "  topic_1 = topic_encoded_tfidf_df[topic_encoded_tfidf_df.Is_Poe == val]['topic_1'].values\n",
    "  topic_2 = topic_encoded_tfidf_df[topic_encoded_tfidf_df.Is_Poe == val]['topic_2'].values\n",
    "  print(val)\n",
    "  color = \"red\" if val else \"green\"\n",
    "  marker = \"x\" if val else \".\"\n",
    "  label = \"The Raven\" if val else \"Charge of the Light Brigade\"\n",
    "  ax.scatter(topic_1, topic_2, marker=marker, c=color, alpha=0.5, label=label)\n",
    "# made the colors represent different books\n",
    "\n",
    "ax.set_xlabel('First Topic')\n",
    "ax.set_ylabel('Second Topic')\n",
    "ax.axvline(linewidth=0.5)\n",
    "ax.axhline(linewidth=0.5)\n",
    "ax.legend()\n",
    "\n",
    "display(fig)"
   ]
  },
  {
   "cell_type": "code",
   "execution_count": null,
   "metadata": {},
   "outputs": [],
   "source": []
  }
 ],
 "metadata": {
  "application/vnd.databricks.v1+notebook": {
   "dashboards": [],
   "language": "python",
   "notebookMetadata": {
    "pythonIndentUnit": 2
   },
   "notebookName": "Latent Semantic Analysis, Part 1",
   "widgets": {}
  },
  "kernelspec": {
   "display_name": "Python 3 (ipykernel)",
   "language": "python",
   "name": "python3"
  },
  "language_info": {
   "codemirror_mode": {
    "name": "ipython",
    "version": 3
   },
   "file_extension": ".py",
   "mimetype": "text/x-python",
   "name": "python",
   "nbconvert_exporter": "python",
   "pygments_lexer": "ipython3",
   "version": "3.10.9"
  },
  "widgets": {
   "application/vnd.jupyter.widget-state+json": {
    "state": {},
    "version_major": 2,
    "version_minor": 0
   }
  }
 },
 "nbformat": 4,
 "nbformat_minor": 4
}
